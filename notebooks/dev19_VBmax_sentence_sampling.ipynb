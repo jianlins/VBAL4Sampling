{
 "cells": [
  {
   "cell_type": "code",
   "execution_count": 1,
   "id": "83112b3a-7772-4c25-8883-482eaac5cda2",
   "metadata": {},
   "outputs": [],
   "source": [
    "import sklearn_crfsuite\n",
    "from sklearn_crfsuite.metrics import flat_f1_score\n",
    "from sklearn_crfsuite import CRF\n",
    "from sklearn.model_selection import train_test_split\n",
    "import pandas as pd\n",
    "import numpy as np\n",
    "from spacy.lang.en import English\n",
    "from spacy import displacy\n",
    "from pathlib import Path\n",
    "import joblib\n",
    "from spacy.tokens import Doc\n",
    "from typing import List\n",
    "import random\n",
    "from statistics import mean, stdev\n",
    "from loguru import logger\n",
    "import sys\n",
    "import spacy\n",
    "from medspacy_io.reader.brat_reader import BratDocReader, BratDirReader\n",
    "import medspacy"
   ]
  },
  {
   "cell_type": "markdown",
   "id": "5c8ce56d-9088-45f8-9cc2-818f2f5c3a03",
   "metadata": {},
   "source": [
    "## initialize brat reader"
   ]
  },
  {
   "cell_type": "code",
   "execution_count": 2,
   "id": "b8dc9563-ab71-40cc-b714-1ab328b001be",
   "metadata": {},
   "outputs": [
    {
     "data": {
      "text/plain": [
       "(True, True)"
      ]
     },
     "execution_count": 2,
     "metadata": {},
     "output_type": "execute_result"
    }
   ],
   "source": [
    "cleaned_train_dir=r'..\\data\\n2c2\\cleaned_training'\n",
    "cleaned_test_dir=r'..\\data\\n2c2\\cleaned_test'\n",
    "Path(cleaned_train_dir).exists(), Path(cleaned_test_dir).exists()"
   ]
  },
  {
   "cell_type": "code",
   "execution_count": 3,
   "id": "8960eb71-be17-4776-8a7e-b746f8bc2ebf",
   "metadata": {},
   "outputs": [],
   "source": [
    "nlp=spacy.load('en_core_web_sm', disable=['ner'])"
   ]
  },
  {
   "cell_type": "code",
   "execution_count": 4,
   "id": "83e70217-0c7a-4ca3-8856-f8c0c2abd58a",
   "metadata": {},
   "outputs": [],
   "source": [
    "dir_reader = BratDirReader(nlp=nlp, schema_file=str(Path(cleaned_train_dir, 'annotation.conf')), support_overlap=True)"
   ]
  },
  {
   "cell_type": "markdown",
   "id": "a810382c-34fd-4b12-a1c5-13b2338c0654",
   "metadata": {},
   "source": [
    "## Read eHOST annotations | load from pickles"
   ]
  },
  {
   "cell_type": "code",
   "execution_count": 5,
   "id": "afad47e9-1914-4db7-a0ca-0a8474183e28",
   "metadata": {},
   "outputs": [],
   "source": [
    "pickle_file= r'..\\data\\n2c2\\spacy_docs.joblib'"
   ]
  },
  {
   "cell_type": "code",
   "execution_count": 6,
   "id": "45bdc022-5253-4f21-aea8-5d3e5dd2c2c8",
   "metadata": {},
   "outputs": [
    {
     "name": "stdout",
     "output_type": "stream",
     "text": [
      "..\\data\\n2c2\\spacy_docs.joblib already exists, load them directly\n"
     ]
    }
   ],
   "source": [
    "if not Path(pickle_file).exists():\n",
    "    train_docs=dir_reader.read(txt_dir=cleaned_train_dir)\n",
    "    test_docs=dir_reader.read(txt_dir=cleaned_test_dir)\n",
    "    print(len(train_docs), len(test_docs))\n",
    "    joblib.dump((train_docs, test_docs), pickle_file)\n",
    "else:\n",
    "    print(f'{pickle_file} already exists, load them directly')\n",
    "    # before load from pickle, initiate EhostDirReader or EhostDocReader first, because some Doc extension used to store meta data will not be automatically recreated by loading.\n",
    "    train_docs, test_docs=joblib.load(pickle_file)"
   ]
  },
  {
   "cell_type": "code",
   "execution_count": 7,
   "id": "95af40e2-33fb-46af-9bf2-af62268d1764",
   "metadata": {},
   "outputs": [
    {
     "data": {
      "text/plain": [
       "(303, 202)"
      ]
     },
     "execution_count": 7,
     "metadata": {},
     "output_type": "execute_result"
    }
   ],
   "source": [
    "len(train_docs), len(test_docs)"
   ]
  },
  {
   "cell_type": "markdown",
   "id": "6e44d072-7341-4aa1-8872-6a73a3f83202",
   "metadata": {},
   "source": [
    "## CRF Wrapper (only use for eval)"
   ]
  },
  {
   "cell_type": "code",
   "execution_count": 8,
   "id": "ba5f41a6-3c8e-4319-a534-3dc823645ba1",
   "metadata": {},
   "outputs": [],
   "source": [
    "from CRFWrapper_Sentence import spans_to_bio, convert_docs, word2features, sent2features,compute_metrics_and_averages,  CRFModel\n"
   ]
  },
  {
   "cell_type": "code",
   "execution_count": 9,
   "id": "1e38ba60-df23-42e4-bf0d-868e35df4ff5",
   "metadata": {},
   "outputs": [
    {
     "name": "stdout",
     "output_type": "stream",
     "text": [
      "{'Strength', 'Reason', 'Frequency', 'Route', 'Duration', 'ADE', 'Drug', 'Form', 'Dosage'}\n"
     ]
    }
   ],
   "source": [
    "## Get all annotation types: \n",
    "annos=set()\n",
    "for d in train_docs:\n",
    "    for anno in d.spans.keys():\n",
    "        annos.add(anno)\n",
    "print(annos)"
   ]
  },
  {
   "cell_type": "code",
   "execution_count": 10,
   "id": "4c828046-8e65-42fb-a820-480245a1f794",
   "metadata": {},
   "outputs": [],
   "source": [
    "crf_model=CRFModel(anno_types=annos)"
   ]
  },
  {
   "cell_type": "markdown",
   "id": "d7706853-5bb8-4670-a9c9-03162f7976ff",
   "metadata": {},
   "source": [
    "## converting docs into sentence level dataframe"
   ]
  },
  {
   "cell_type": "code",
   "execution_count": 11,
   "id": "9c426ab9-ab28-4eb5-9032-2bcf938e0a15",
   "metadata": {},
   "outputs": [],
   "source": [
    "from ALLSampler_Sentence import SamplingSimulator, ModelSamplingSimulator, VBSamplingSimulator, convert_docs_medspacyIOvec"
   ]
  },
  {
   "cell_type": "code",
   "id": "a7f55568-8119-4999-8711-24f2d3fac742",
   "metadata": {},
   "source": [
    "# get sentence label from docs\n",
    "sdf_labels_train=convert_docs_medspacyIOvec(train_docs)\n",
    "sdf_labels_train"
   ],
   "outputs": [],
   "execution_count": null
  },
  {
   "cell_type": "code",
   "execution_count": 13,
   "id": "2a2b56a3-9033-418f-bc08-95075abb3964",
   "metadata": {},
   "outputs": [],
   "source": [
    "# get token level label from docs\n",
    "_, train_df=convert_docs(train_docs, anno_types=annos)\n",
    "_, test_df=convert_docs(test_docs, anno_types=annos)"
   ]
  },
  {
   "cell_type": "code",
   "id": "1a376b7c-3df5-4356-b584-74238d8011f8",
   "metadata": {},
   "source": [
    "train_df"
   ],
   "outputs": [],
   "execution_count": null
  },
  {
   "cell_type": "code",
   "execution_count": 15,
   "id": "8d43ddf9-9523-4160-b917-5262c5ca5978",
   "metadata": {},
   "outputs": [],
   "source": [
    "# embedding for unique sentence\n",
    "pickle_embedding_file= r'..\\data\\n2c2\\embedding_df_uniqueSentID.joblib' \n",
    "embedding_df=joblib.load(pickle_embedding_file)"
   ]
  },
  {
   "cell_type": "code",
   "id": "654c433c-f33d-4d2b-98a5-8be9f93b0b96",
   "metadata": {},
   "source": [
    "embedding_df"
   ],
   "outputs": [],
   "execution_count": null
  },
  {
   "cell_type": "code",
   "execution_count": 17,
   "id": "28fe849a-c78e-4e9a-891b-32d73fb550f3",
   "metadata": {},
   "outputs": [],
   "source": [
    "sdf_labels_sid = sdf_labels_train.merge(embedding_df, how='inner', on='sentence') "
   ]
  },
  {
   "cell_type": "code",
   "id": "2731c3a3-2308-414b-9ca9-ee572a1bfba9",
   "metadata": {},
   "source": [
    "sdf_labels_sid"
   ],
   "outputs": [],
   "execution_count": null
  },
  {
   "cell_type": "markdown",
   "id": "fe255cb3-fbd2-4b2f-a43c-9ce1af0de20a",
   "metadata": {},
   "source": [
    "## Define sampling simulator"
   ]
  },
  {
   "cell_type": "code",
   "execution_count": 19,
   "id": "ca252bff-fee0-456c-b1e5-908242d81b82",
   "metadata": {},
   "outputs": [],
   "source": [
    "faiss_index_path= r'..\\data\\n2c2\\faiss_index_st768' #FAISS indexing regenerated for unique sentence embedding"
   ]
  },
  {
   "cell_type": "code",
   "execution_count": 20,
   "id": "4b546bc6-6e92-4d02-b4c3-7540015f07c6",
   "metadata": {},
   "outputs": [],
   "source": [
    "pickle_embedding_file=  r'..\\data\\n2c2\\embedding_df_uniqueSentID.joblib' #unique sentence embeddings\n",
    "embedding_df=joblib.load(pickle_embedding_file)"
   ]
  },
  {
   "cell_type": "code",
   "execution_count": 21,
   "id": "b45986ca-7074-41f2-8ae0-d6be2e351286",
   "metadata": {},
   "outputs": [],
   "source": [
    "def compute_mean_ci(scores):\n",
    "    ave=np.mean(scores)\n",
    "    ci=np.percentile(scores, [2.5, 97.5])\n",
    "    return ave, ci\n",
    "\n",
    "summary={'precision': [], 'pl':[], 'pu': [], 'recall': [], 'rl':[], 'ru': [], 'f1':[], 'fl':[], 'fu': []}\n",
    "# for s in scores:    \n",
    "#     for k,v in s.items():\n",
    "#         ave, (l, u)=compute_mean_ci(v)\n",
    "#         summary[k].append(ave)\n",
    "#         summary[k[0]+'l'].append(l)\n",
    "#         summary[k[0]+'u'].append(u)"
   ]
  },
  {
   "cell_type": "markdown",
   "id": "0b85a569-2569-4abb-bc2d-08936b501221",
   "metadata": {},
   "source": [
    "## bootstrap 3 runs"
   ]
  },
  {
   "cell_type": "code",
   "execution_count": 22,
   "id": "30a11b17-ca80-4b95-98b0-bc96e1ca57ac",
   "metadata": {},
   "outputs": [
    {
     "data": {
      "text/plain": [
       "1"
      ]
     },
     "execution_count": 22,
     "metadata": {},
     "output_type": "execute_result"
    }
   ],
   "source": [
    "logger.remove()\n",
    "logger.add(sys.stderr, level='INFO')"
   ]
  },
  {
   "cell_type": "code",
   "execution_count": 23,
   "id": "ee714beb-1292-49b2-93ff-5f368ec2eb32",
   "metadata": {},
   "outputs": [],
   "source": [
    "boostrap_runs=3\n",
    "total_round=10"
   ]
  },
  {
   "cell_type": "code",
   "execution_count": 24,
   "id": "c59cfc0d-d7b0-4361-b9af-ca78440c4160",
   "metadata": {},
   "outputs": [
    {
     "data": {
      "text/plain": [
       "[1792286, 8843471, 4142887]"
      ]
     },
     "execution_count": 24,
     "metadata": {},
     "output_type": "execute_result"
    }
   ],
   "source": [
    "random.seed(14)\n",
    "seeds=[random.randint(1,10000000) for  _ in range(boostrap_runs)]\n",
    "seeds"
   ]
  },
  {
   "cell_type": "code",
   "execution_count": 27,
   "id": "8047f489-1f24-4681-a91f-6389bb46f731",
   "metadata": {},
   "outputs": [
    {
     "name": "stderr",
     "output_type": "stream",
     "text": [
      "\u001B[32m2024-07-19 16:16:40.030\u001B[0m | \u001B[1mINFO    \u001B[0m | \u001B[36m__main__\u001B[0m:\u001B[36m<module>\u001B[0m:\u001B[36m6\u001B[0m - \u001B[1mstart run 0.\u001B[0m\n",
      "\u001B[32m2024-07-19 16:16:40.911\u001B[0m | \u001B[1mINFO    \u001B[0m | \u001B[36mALLSampler_Sentence\u001B[0m:\u001B[36msimulate_rounds\u001B[0m:\u001B[36m99\u001B[0m - \u001B[1msimulate round 0.\u001B[0m\n",
      "\u001B[32m2024-07-19 16:16:41.312\u001B[0m | \u001B[1mINFO    \u001B[0m | \u001B[36mALLSampler_Sentence\u001B[0m:\u001B[36mkeep_sample\u001B[0m:\u001B[36m89\u001B[0m - \u001B[1mcurrent sampled sentences: 200, remaining sentences: 51598\u001B[0m\n",
      "\u001B[32m2024-07-19 16:27:34.178\u001B[0m | \u001B[1mINFO    \u001B[0m | \u001B[36mALLSampler_Sentence\u001B[0m:\u001B[36msimulate_rounds\u001B[0m:\u001B[36m99\u001B[0m - \u001B[1msimulate round 1.\u001B[0m\n",
      "\u001B[32m2024-07-19 16:27:38.555\u001B[0m | \u001B[1mINFO    \u001B[0m | \u001B[36mALLSampler_Sentence\u001B[0m:\u001B[36mkeep_sample\u001B[0m:\u001B[36m89\u001B[0m - \u001B[1mcurrent sampled sentences: 400, remaining sentences: 51398\u001B[0m\n",
      "\u001B[32m2024-07-19 16:38:46.496\u001B[0m | \u001B[1mINFO    \u001B[0m | \u001B[36mALLSampler_Sentence\u001B[0m:\u001B[36msimulate_rounds\u001B[0m:\u001B[36m99\u001B[0m - \u001B[1msimulate round 2.\u001B[0m\n",
      "\u001B[32m2024-07-19 16:38:50.901\u001B[0m | \u001B[1mINFO    \u001B[0m | \u001B[36mALLSampler_Sentence\u001B[0m:\u001B[36mkeep_sample\u001B[0m:\u001B[36m89\u001B[0m - \u001B[1mcurrent sampled sentences: 600, remaining sentences: 51198\u001B[0m\n",
      "\u001B[32m2024-07-19 16:49:51.299\u001B[0m | \u001B[1mINFO    \u001B[0m | \u001B[36mALLSampler_Sentence\u001B[0m:\u001B[36msimulate_rounds\u001B[0m:\u001B[36m99\u001B[0m - \u001B[1msimulate round 3.\u001B[0m\n",
      "\u001B[32m2024-07-19 16:49:56.109\u001B[0m | \u001B[1mINFO    \u001B[0m | \u001B[36mALLSampler_Sentence\u001B[0m:\u001B[36mkeep_sample\u001B[0m:\u001B[36m89\u001B[0m - \u001B[1mcurrent sampled sentences: 800, remaining sentences: 50998\u001B[0m\n",
      "\u001B[32m2024-07-19 17:01:18.370\u001B[0m | \u001B[1mINFO    \u001B[0m | \u001B[36mALLSampler_Sentence\u001B[0m:\u001B[36msimulate_rounds\u001B[0m:\u001B[36m99\u001B[0m - \u001B[1msimulate round 4.\u001B[0m\n",
      "\u001B[32m2024-07-19 17:01:24.424\u001B[0m | \u001B[1mINFO    \u001B[0m | \u001B[36mALLSampler_Sentence\u001B[0m:\u001B[36mkeep_sample\u001B[0m:\u001B[36m89\u001B[0m - \u001B[1mcurrent sampled sentences: 1000, remaining sentences: 50798\u001B[0m\n",
      "\u001B[32m2024-07-19 17:12:40.773\u001B[0m | \u001B[1mINFO    \u001B[0m | \u001B[36mALLSampler_Sentence\u001B[0m:\u001B[36msimulate_rounds\u001B[0m:\u001B[36m99\u001B[0m - \u001B[1msimulate round 5.\u001B[0m\n",
      "\u001B[32m2024-07-19 17:12:48.670\u001B[0m | \u001B[1mINFO    \u001B[0m | \u001B[36mALLSampler_Sentence\u001B[0m:\u001B[36mkeep_sample\u001B[0m:\u001B[36m89\u001B[0m - \u001B[1mcurrent sampled sentences: 1200, remaining sentences: 50598\u001B[0m\n",
      "\u001B[32m2024-07-19 17:24:06.518\u001B[0m | \u001B[1mINFO    \u001B[0m | \u001B[36mALLSampler_Sentence\u001B[0m:\u001B[36msimulate_rounds\u001B[0m:\u001B[36m99\u001B[0m - \u001B[1msimulate round 6.\u001B[0m\n",
      "\u001B[32m2024-07-19 17:24:16.090\u001B[0m | \u001B[1mINFO    \u001B[0m | \u001B[36mALLSampler_Sentence\u001B[0m:\u001B[36mkeep_sample\u001B[0m:\u001B[36m89\u001B[0m - \u001B[1mcurrent sampled sentences: 1400, remaining sentences: 50398\u001B[0m\n",
      "\u001B[32m2024-07-19 17:35:34.628\u001B[0m | \u001B[1mINFO    \u001B[0m | \u001B[36mALLSampler_Sentence\u001B[0m:\u001B[36msimulate_rounds\u001B[0m:\u001B[36m99\u001B[0m - \u001B[1msimulate round 7.\u001B[0m\n",
      "\u001B[32m2024-07-19 17:35:47.732\u001B[0m | \u001B[1mINFO    \u001B[0m | \u001B[36mALLSampler_Sentence\u001B[0m:\u001B[36mkeep_sample\u001B[0m:\u001B[36m89\u001B[0m - \u001B[1mcurrent sampled sentences: 1600, remaining sentences: 50198\u001B[0m\n",
      "\u001B[32m2024-07-19 17:47:09.842\u001B[0m | \u001B[1mINFO    \u001B[0m | \u001B[36mALLSampler_Sentence\u001B[0m:\u001B[36msimulate_rounds\u001B[0m:\u001B[36m99\u001B[0m - \u001B[1msimulate round 8.\u001B[0m\n",
      "\u001B[32m2024-07-19 17:47:24.560\u001B[0m | \u001B[1mINFO    \u001B[0m | \u001B[36mALLSampler_Sentence\u001B[0m:\u001B[36mkeep_sample\u001B[0m:\u001B[36m89\u001B[0m - \u001B[1mcurrent sampled sentences: 1800, remaining sentences: 49998\u001B[0m\n",
      "\u001B[32m2024-07-19 17:58:49.882\u001B[0m | \u001B[1mINFO    \u001B[0m | \u001B[36mALLSampler_Sentence\u001B[0m:\u001B[36msimulate_rounds\u001B[0m:\u001B[36m99\u001B[0m - \u001B[1msimulate round 9.\u001B[0m\n",
      "\u001B[32m2024-07-19 17:59:04.819\u001B[0m | \u001B[1mINFO    \u001B[0m | \u001B[36mALLSampler_Sentence\u001B[0m:\u001B[36mkeep_sample\u001B[0m:\u001B[36m89\u001B[0m - \u001B[1mcurrent sampled sentences: 2000, remaining sentences: 49798\u001B[0m\n",
      "\u001B[32m2024-07-19 18:10:32.238\u001B[0m | \u001B[1mINFO    \u001B[0m | \u001B[36m__main__\u001B[0m:\u001B[36m<module>\u001B[0m:\u001B[36m6\u001B[0m - \u001B[1mstart run 1.\u001B[0m\n",
      "\u001B[32m2024-07-19 18:10:33.549\u001B[0m | \u001B[1mINFO    \u001B[0m | \u001B[36mALLSampler_Sentence\u001B[0m:\u001B[36msimulate_rounds\u001B[0m:\u001B[36m99\u001B[0m - \u001B[1msimulate round 0.\u001B[0m\n",
      "\u001B[32m2024-07-19 18:10:33.945\u001B[0m | \u001B[1mINFO    \u001B[0m | \u001B[36mALLSampler_Sentence\u001B[0m:\u001B[36mkeep_sample\u001B[0m:\u001B[36m89\u001B[0m - \u001B[1mcurrent sampled sentences: 200, remaining sentences: 51598\u001B[0m\n",
      "\u001B[32m2024-07-19 18:21:25.592\u001B[0m | \u001B[1mINFO    \u001B[0m | \u001B[36mALLSampler_Sentence\u001B[0m:\u001B[36msimulate_rounds\u001B[0m:\u001B[36m99\u001B[0m - \u001B[1msimulate round 1.\u001B[0m\n",
      "\u001B[32m2024-07-19 18:21:29.553\u001B[0m | \u001B[1mINFO    \u001B[0m | \u001B[36mALLSampler_Sentence\u001B[0m:\u001B[36mkeep_sample\u001B[0m:\u001B[36m89\u001B[0m - \u001B[1mcurrent sampled sentences: 400, remaining sentences: 51398\u001B[0m\n",
      "\u001B[32m2024-07-19 18:32:30.767\u001B[0m | \u001B[1mINFO    \u001B[0m | \u001B[36mALLSampler_Sentence\u001B[0m:\u001B[36msimulate_rounds\u001B[0m:\u001B[36m99\u001B[0m - \u001B[1msimulate round 2.\u001B[0m\n",
      "\u001B[32m2024-07-19 18:32:37.145\u001B[0m | \u001B[1mINFO    \u001B[0m | \u001B[36mALLSampler_Sentence\u001B[0m:\u001B[36mkeep_sample\u001B[0m:\u001B[36m89\u001B[0m - \u001B[1mcurrent sampled sentences: 600, remaining sentences: 51198\u001B[0m\n",
      "\u001B[32m2024-07-19 18:43:36.592\u001B[0m | \u001B[1mINFO    \u001B[0m | \u001B[36mALLSampler_Sentence\u001B[0m:\u001B[36msimulate_rounds\u001B[0m:\u001B[36m99\u001B[0m - \u001B[1msimulate round 3.\u001B[0m\n",
      "\u001B[32m2024-07-19 18:43:43.896\u001B[0m | \u001B[1mINFO    \u001B[0m | \u001B[36mALLSampler_Sentence\u001B[0m:\u001B[36mkeep_sample\u001B[0m:\u001B[36m89\u001B[0m - \u001B[1mcurrent sampled sentences: 800, remaining sentences: 50998\u001B[0m\n",
      "\u001B[32m2024-07-19 18:54:46.995\u001B[0m | \u001B[1mINFO    \u001B[0m | \u001B[36mALLSampler_Sentence\u001B[0m:\u001B[36msimulate_rounds\u001B[0m:\u001B[36m99\u001B[0m - \u001B[1msimulate round 4.\u001B[0m\n",
      "\u001B[32m2024-07-19 18:54:55.343\u001B[0m | \u001B[1mINFO    \u001B[0m | \u001B[36mALLSampler_Sentence\u001B[0m:\u001B[36mkeep_sample\u001B[0m:\u001B[36m89\u001B[0m - \u001B[1mcurrent sampled sentences: 1000, remaining sentences: 50798\u001B[0m\n",
      "\u001B[32m2024-07-19 19:06:12.387\u001B[0m | \u001B[1mINFO    \u001B[0m | \u001B[36mALLSampler_Sentence\u001B[0m:\u001B[36msimulate_rounds\u001B[0m:\u001B[36m99\u001B[0m - \u001B[1msimulate round 5.\u001B[0m\n",
      "\u001B[32m2024-07-19 19:06:22.742\u001B[0m | \u001B[1mINFO    \u001B[0m | \u001B[36mALLSampler_Sentence\u001B[0m:\u001B[36mkeep_sample\u001B[0m:\u001B[36m89\u001B[0m - \u001B[1mcurrent sampled sentences: 1200, remaining sentences: 50598\u001B[0m\n",
      "\u001B[32m2024-07-19 19:17:33.256\u001B[0m | \u001B[1mINFO    \u001B[0m | \u001B[36mALLSampler_Sentence\u001B[0m:\u001B[36msimulate_rounds\u001B[0m:\u001B[36m99\u001B[0m - \u001B[1msimulate round 6.\u001B[0m\n",
      "\u001B[32m2024-07-19 19:17:45.725\u001B[0m | \u001B[1mINFO    \u001B[0m | \u001B[36mALLSampler_Sentence\u001B[0m:\u001B[36mkeep_sample\u001B[0m:\u001B[36m89\u001B[0m - \u001B[1mcurrent sampled sentences: 1400, remaining sentences: 50398\u001B[0m\n",
      "\u001B[32m2024-07-19 19:29:04.438\u001B[0m | \u001B[1mINFO    \u001B[0m | \u001B[36mALLSampler_Sentence\u001B[0m:\u001B[36msimulate_rounds\u001B[0m:\u001B[36m99\u001B[0m - \u001B[1msimulate round 7.\u001B[0m\n",
      "\u001B[32m2024-07-19 19:29:20.402\u001B[0m | \u001B[1mINFO    \u001B[0m | \u001B[36mALLSampler_Sentence\u001B[0m:\u001B[36mkeep_sample\u001B[0m:\u001B[36m89\u001B[0m - \u001B[1mcurrent sampled sentences: 1600, remaining sentences: 50198\u001B[0m\n",
      "\u001B[32m2024-07-19 19:40:38.739\u001B[0m | \u001B[1mINFO    \u001B[0m | \u001B[36mALLSampler_Sentence\u001B[0m:\u001B[36msimulate_rounds\u001B[0m:\u001B[36m99\u001B[0m - \u001B[1msimulate round 8.\u001B[0m\n",
      "\u001B[32m2024-07-19 19:40:57.820\u001B[0m | \u001B[1mINFO    \u001B[0m | \u001B[36mALLSampler_Sentence\u001B[0m:\u001B[36mkeep_sample\u001B[0m:\u001B[36m89\u001B[0m - \u001B[1mcurrent sampled sentences: 1800, remaining sentences: 49998\u001B[0m\n",
      "\u001B[32m2024-07-19 19:52:21.174\u001B[0m | \u001B[1mINFO    \u001B[0m | \u001B[36mALLSampler_Sentence\u001B[0m:\u001B[36msimulate_rounds\u001B[0m:\u001B[36m99\u001B[0m - \u001B[1msimulate round 9.\u001B[0m\n",
      "\u001B[32m2024-07-19 19:52:41.600\u001B[0m | \u001B[1mINFO    \u001B[0m | \u001B[36mALLSampler_Sentence\u001B[0m:\u001B[36mkeep_sample\u001B[0m:\u001B[36m89\u001B[0m - \u001B[1mcurrent sampled sentences: 2000, remaining sentences: 49798\u001B[0m\n",
      "\u001B[32m2024-07-19 20:04:04.127\u001B[0m | \u001B[1mINFO    \u001B[0m | \u001B[36m__main__\u001B[0m:\u001B[36m<module>\u001B[0m:\u001B[36m6\u001B[0m - \u001B[1mstart run 2.\u001B[0m\n",
      "\u001B[32m2024-07-19 20:04:05.568\u001B[0m | \u001B[1mINFO    \u001B[0m | \u001B[36mALLSampler_Sentence\u001B[0m:\u001B[36msimulate_rounds\u001B[0m:\u001B[36m99\u001B[0m - \u001B[1msimulate round 0.\u001B[0m\n",
      "\u001B[32m2024-07-19 20:04:05.960\u001B[0m | \u001B[1mINFO    \u001B[0m | \u001B[36mALLSampler_Sentence\u001B[0m:\u001B[36mkeep_sample\u001B[0m:\u001B[36m89\u001B[0m - \u001B[1mcurrent sampled sentences: 200, remaining sentences: 51598\u001B[0m\n",
      "\u001B[32m2024-07-19 20:14:52.910\u001B[0m | \u001B[1mINFO    \u001B[0m | \u001B[36mALLSampler_Sentence\u001B[0m:\u001B[36msimulate_rounds\u001B[0m:\u001B[36m99\u001B[0m - \u001B[1msimulate round 1.\u001B[0m\n",
      "\u001B[32m2024-07-19 20:14:57.906\u001B[0m | \u001B[1mINFO    \u001B[0m | \u001B[36mALLSampler_Sentence\u001B[0m:\u001B[36mkeep_sample\u001B[0m:\u001B[36m89\u001B[0m - \u001B[1mcurrent sampled sentences: 400, remaining sentences: 51398\u001B[0m\n",
      "\u001B[32m2024-07-19 20:25:55.426\u001B[0m | \u001B[1mINFO    \u001B[0m | \u001B[36mALLSampler_Sentence\u001B[0m:\u001B[36msimulate_rounds\u001B[0m:\u001B[36m99\u001B[0m - \u001B[1msimulate round 2.\u001B[0m\n",
      "\u001B[32m2024-07-19 20:26:01.682\u001B[0m | \u001B[1mINFO    \u001B[0m | \u001B[36mALLSampler_Sentence\u001B[0m:\u001B[36mkeep_sample\u001B[0m:\u001B[36m89\u001B[0m - \u001B[1mcurrent sampled sentences: 600, remaining sentences: 51198\u001B[0m\n",
      "\u001B[32m2024-07-19 20:37:01.253\u001B[0m | \u001B[1mINFO    \u001B[0m | \u001B[36mALLSampler_Sentence\u001B[0m:\u001B[36msimulate_rounds\u001B[0m:\u001B[36m99\u001B[0m - \u001B[1msimulate round 3.\u001B[0m\n",
      "\u001B[32m2024-07-19 20:37:10.199\u001B[0m | \u001B[1mINFO    \u001B[0m | \u001B[36mALLSampler_Sentence\u001B[0m:\u001B[36mkeep_sample\u001B[0m:\u001B[36m89\u001B[0m - \u001B[1mcurrent sampled sentences: 800, remaining sentences: 50998\u001B[0m\n",
      "\u001B[32m2024-07-19 20:48:11.356\u001B[0m | \u001B[1mINFO    \u001B[0m | \u001B[36mALLSampler_Sentence\u001B[0m:\u001B[36msimulate_rounds\u001B[0m:\u001B[36m99\u001B[0m - \u001B[1msimulate round 4.\u001B[0m\n",
      "\u001B[32m2024-07-19 20:48:21.405\u001B[0m | \u001B[1mINFO    \u001B[0m | \u001B[36mALLSampler_Sentence\u001B[0m:\u001B[36mkeep_sample\u001B[0m:\u001B[36m89\u001B[0m - \u001B[1mcurrent sampled sentences: 1000, remaining sentences: 50798\u001B[0m\n",
      "\u001B[32m2024-07-19 20:59:32.259\u001B[0m | \u001B[1mINFO    \u001B[0m | \u001B[36mALLSampler_Sentence\u001B[0m:\u001B[36msimulate_rounds\u001B[0m:\u001B[36m99\u001B[0m - \u001B[1msimulate round 5.\u001B[0m\n",
      "\u001B[32m2024-07-19 20:59:44.153\u001B[0m | \u001B[1mINFO    \u001B[0m | \u001B[36mALLSampler_Sentence\u001B[0m:\u001B[36mkeep_sample\u001B[0m:\u001B[36m89\u001B[0m - \u001B[1mcurrent sampled sentences: 1200, remaining sentences: 50598\u001B[0m\n",
      "\u001B[32m2024-07-19 21:10:52.474\u001B[0m | \u001B[1mINFO    \u001B[0m | \u001B[36mALLSampler_Sentence\u001B[0m:\u001B[36msimulate_rounds\u001B[0m:\u001B[36m99\u001B[0m - \u001B[1msimulate round 6.\u001B[0m\n",
      "\u001B[32m2024-07-19 21:11:05.767\u001B[0m | \u001B[1mINFO    \u001B[0m | \u001B[36mALLSampler_Sentence\u001B[0m:\u001B[36mkeep_sample\u001B[0m:\u001B[36m89\u001B[0m - \u001B[1mcurrent sampled sentences: 1400, remaining sentences: 50398\u001B[0m\n",
      "\u001B[32m2024-07-19 21:22:19.128\u001B[0m | \u001B[1mINFO    \u001B[0m | \u001B[36mALLSampler_Sentence\u001B[0m:\u001B[36msimulate_rounds\u001B[0m:\u001B[36m99\u001B[0m - \u001B[1msimulate round 7.\u001B[0m\n",
      "\u001B[32m2024-07-19 21:22:35.153\u001B[0m | \u001B[1mINFO    \u001B[0m | \u001B[36mALLSampler_Sentence\u001B[0m:\u001B[36mkeep_sample\u001B[0m:\u001B[36m89\u001B[0m - \u001B[1mcurrent sampled sentences: 1600, remaining sentences: 50198\u001B[0m\n",
      "\u001B[32m2024-07-19 21:33:51.797\u001B[0m | \u001B[1mINFO    \u001B[0m | \u001B[36mALLSampler_Sentence\u001B[0m:\u001B[36msimulate_rounds\u001B[0m:\u001B[36m99\u001B[0m - \u001B[1msimulate round 8.\u001B[0m\n",
      "\u001B[32m2024-07-19 21:34:10.102\u001B[0m | \u001B[1mINFO    \u001B[0m | \u001B[36mALLSampler_Sentence\u001B[0m:\u001B[36mkeep_sample\u001B[0m:\u001B[36m89\u001B[0m - \u001B[1mcurrent sampled sentences: 1800, remaining sentences: 49998\u001B[0m\n",
      "\u001B[32m2024-07-19 21:45:28.686\u001B[0m | \u001B[1mINFO    \u001B[0m | \u001B[36mALLSampler_Sentence\u001B[0m:\u001B[36msimulate_rounds\u001B[0m:\u001B[36m99\u001B[0m - \u001B[1msimulate round 9.\u001B[0m\n",
      "\u001B[32m2024-07-19 21:45:48.307\u001B[0m | \u001B[1mINFO    \u001B[0m | \u001B[36mALLSampler_Sentence\u001B[0m:\u001B[36mkeep_sample\u001B[0m:\u001B[36m89\u001B[0m - \u001B[1mcurrent sampled sentences: 2000, remaining sentences: 49798\u001B[0m\n"
     ]
    }
   ],
   "source": [
    "# initial f1 scores are not consistant with other methods, redo it.\n",
    "all_scores=[]\n",
    "pickle_embedding_file= r'..\\data\\n2c2\\embedding_df_uniqueSentID.joblib'# r'..\\data\\n2c2\\embedding_df.joblib'\n",
    "faiss_index_path= r'..\\data\\n2c2\\faiss_index_st768'\n",
    "embedding_df=joblib.load(pickle_embedding_file)\n",
    "for si, seed  in enumerate(seeds):\n",
    "    logger.info(f'start run {si}.')\n",
    "    pickle_embedding_file= r'..\\data\\n2c2\\embedding_df_uniqueSentID.joblib' #r'..\\data\\n2c2\\embedding_df.joblib'\n",
    "    crf_model=CRFModel(anno_types=annos, topNUncertainToken=2)\n",
    "    vb_simulator=VBSamplingSimulator(total_sents=train_df, \n",
    "                                 total_round=10, \n",
    "                                 modelWrapper=crf_model, \n",
    "                                 eval_sents=test_df, \n",
    "                                 init_seed=seed,\n",
    "                                 sample_all_on_last_round=False, \n",
    "                                 faiss_index_path=faiss_index_path, \n",
    "                                 embedding_df=embedding_df,\n",
    "                                 sdf_labels=sdf_labels_sid[['sentence','concept', 'y', 'doc_name','sentence_id']],\n",
    "                                 min_dist_diff=False\n",
    "                                )\n",
    "    vb_simulator.num_per_round=200\n",
    "    scores=vb_simulator.simulate_rounds(boostrap_times=500)\n",
    "    all_scores.append(scores) "
   ]
  },
  {
   "cell_type": "code",
   "execution_count": 26,
   "id": "da8fe94a-8a11-4cb7-ada8-1c0563a4a579",
   "metadata": {
    "scrolled": true
   },
   "outputs": [
    {
     "data": {
      "text/plain": [
       "['../data/n2c2/scores_sentence_sampling/ner_VBmax_scores_sentenceSampling_500bootstrap2.joblib']"
      ]
     },
     "execution_count": 26,
     "metadata": {},
     "output_type": "execute_result"
    }
   ],
   "source": [
    "joblib.dump(all_scores, r'../data/n2c2/scores_sentence_sampling/ner_VBmax_scores_sentenceSampling_500bootstrap2.joblib')\n"
   ]
  },
  {
   "cell_type": "code",
   "execution_count": null,
   "id": "c078918f-2b38-41eb-827f-6070a83132db",
   "metadata": {},
   "outputs": [],
   "source": []
  }
 ],
 "metadata": {
  "kernelspec": {
   "display_name": "Python 3 (ipykernel)",
   "language": "python",
   "name": "python3"
  },
  "language_info": {
   "codemirror_mode": {
    "name": "ipython",
    "version": 3
   },
   "file_extension": ".py",
   "mimetype": "text/x-python",
   "name": "python",
   "nbconvert_exporter": "python",
   "pygments_lexer": "ipython3",
   "version": "3.8.18"
  }
 },
 "nbformat": 4,
 "nbformat_minor": 5
}
