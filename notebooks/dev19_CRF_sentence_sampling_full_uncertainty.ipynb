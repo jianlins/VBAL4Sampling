{
 "cells": [
  {
   "cell_type": "code",
   "execution_count": 1,
   "id": "1d06fd2f-0f58-4378-93c8-7de06105d6ab",
   "metadata": {},
   "outputs": [],
   "source": [
    "import sklearn_crfsuite\n",
    "from sklearn_crfsuite.metrics import flat_f1_score\n",
    "from sklearn_crfsuite import CRF\n",
    "from sklearn.model_selection import train_test_split\n",
    "import pandas as pd\n",
    "import numpy as np\n",
    "from spacy.lang.en import English\n",
    "from spacy import displacy\n",
    "from pathlib import Path\n",
    "import joblib\n",
    "from spacy.tokens import Doc\n",
    "from typing import List\n",
    "import random\n",
    "from statistics import mean, stdev\n",
    "from loguru import logger\n",
    "import sys\n",
    "import spacy\n",
    "from medspacy_io.reader.brat_reader import BratDocReader, BratDirReader\n",
    "import medspacy\n",
    "from ALLSampler_Sentence import SamplingSimulator, ModelSamplingSimulator"
   ]
  },
  {
   "cell_type": "code",
   "execution_count": 2,
   "id": "dc64aece-1fc5-4e90-bf3b-c52872a730da",
   "metadata": {},
   "outputs": [
    {
     "data": {
      "text/plain": [
       "1"
      ]
     },
     "execution_count": 2,
     "metadata": {},
     "output_type": "execute_result"
    }
   ],
   "source": [
    "logger.remove()\n",
    "logger.add(sys.stderr, level='DEBUG')"
   ]
  },
  {
   "cell_type": "markdown",
   "id": "c4ebcc40-cce9-4850-994e-88e7676001aa",
   "metadata": {},
   "source": [
    "## Initiate Brat Reader"
   ]
  },
  {
   "cell_type": "code",
   "execution_count": 3,
   "id": "f46d89db-4564-4ed9-80b2-63f50917632b",
   "metadata": {},
   "outputs": [
    {
     "data": {
      "text/plain": [
       "(True, True)"
      ]
     },
     "execution_count": 3,
     "metadata": {},
     "output_type": "execute_result"
    }
   ],
   "source": [
    "cleaned_train_dir=r'..\\data\\n2c2\\cleaned_training'\n",
    "cleaned_test_dir=r'..\\data\\n2c2\\cleaned_test'\n",
    "Path(cleaned_train_dir).exists(), Path(cleaned_test_dir).exists()"
   ]
  },
  {
   "cell_type": "code",
   "execution_count": 4,
   "id": "f14a9e8e-beaa-46a7-9746-45a519024166",
   "metadata": {},
   "outputs": [],
   "source": [
    "nlp=spacy.load('en_core_web_sm', disable=['ner'])"
   ]
  },
  {
   "cell_type": "code",
   "execution_count": 5,
   "id": "a492fdb2-6746-47ab-848f-ee7205d70ecf",
   "metadata": {},
   "outputs": [],
   "source": [
    "dir_reader = BratDirReader(nlp=nlp, schema_file=str(Path(cleaned_train_dir, 'annotation.conf')), support_overlap=True)"
   ]
  },
  {
   "cell_type": "markdown",
   "id": "3bddc4d1-7c89-4aed-a23d-dbfb9b252052",
   "metadata": {},
   "source": [
    "## Read Brat annotations | load from pickles"
   ]
  },
  {
   "cell_type": "code",
   "execution_count": 6,
   "id": "a3977d19-a168-4227-b5aa-4149ab8fb257",
   "metadata": {},
   "outputs": [],
   "source": [
    "pickle_file= r'..\\data\\n2c2\\spacy_docs.joblib'"
   ]
  },
  {
   "cell_type": "code",
   "execution_count": 7,
   "id": "b9e1ec19-15bb-428a-b4a3-6f93d960fdd3",
   "metadata": {},
   "outputs": [
    {
     "name": "stdout",
     "output_type": "stream",
     "text": [
      "..\\data\\n2c2\\spacy_docs.joblib already exists, load them directly\n"
     ]
    }
   ],
   "source": [
    "if not Path(pickle_file).exists():\n",
    "    train_docs=dir_reader.read(txt_dir=cleaned_train_dir)\n",
    "    test_docs=dir_reader.read(txt_dir=cleaned_test_dir)\n",
    "    print(len(train_docs), len(test_docs))\n",
    "    joblib.dump((train_docs, test_docs), pickle_file)\n",
    "else:\n",
    "    print(f'{pickle_file} already exists, load them directly')\n",
    "    # before load from pickle, initiate EhostDirReader or EhostDocReader first, because some Doc extension used to store meta data will not be automatically recreated by loading.\n",
    "    train_docs, test_docs=joblib.load(pickle_file)"
   ]
  },
  {
   "cell_type": "markdown",
   "id": "fa734e16-0b79-4962-a847-70dff5dcd65b",
   "metadata": {},
   "source": [
    "## Define sampling function"
   ]
  },
  {
   "cell_type": "code",
   "execution_count": 8,
   "id": "bbbb3c59-0b8b-4d21-97e5-82fba88ceba9",
   "metadata": {},
   "outputs": [],
   "source": [
    "rounds =10\n",
    "seed= 14"
   ]
  },
  {
   "cell_type": "code",
   "execution_count": 9,
   "id": "fbf9df2b-5afa-4fdb-bd73-6177eb07230d",
   "metadata": {},
   "outputs": [
    {
     "data": {
      "text/plain": [
       "(303, 202)"
      ]
     },
     "execution_count": 9,
     "metadata": {},
     "output_type": "execute_result"
    }
   ],
   "source": [
    "len(train_docs), len(test_docs)"
   ]
  },
  {
   "cell_type": "markdown",
   "id": "16ca4361-326c-43b2-ad20-235bfeb45e4e",
   "metadata": {},
   "source": [
    "## CRF Wrapper"
   ]
  },
  {
   "cell_type": "code",
   "execution_count": 10,
   "id": "457f3a47-5f7c-4f7d-bde9-8f770976949b",
   "metadata": {},
   "outputs": [],
   "source": [
    "from CRFWrapper_Sentence import spans_to_bio, convert_docs, word2features, sent2features,compute_metrics_and_averages,  CRFModel\n"
   ]
  },
  {
   "cell_type": "code",
   "execution_count": 11,
   "id": "08885eea-4455-44d2-8aba-e490de84d92b",
   "metadata": {},
   "outputs": [
    {
     "name": "stdout",
     "output_type": "stream",
     "text": [
      "{'Strength', 'Route', 'Reason', 'Drug', 'ADE', 'Dosage', 'Form', 'Frequency', 'Duration'}\n"
     ]
    }
   ],
   "source": [
    "## Get all annotation types: \n",
    "annos=set()\n",
    "for d in train_docs:\n",
    "    for anno in d.spans.keys():\n",
    "        annos.add(anno)\n",
    "print(annos)"
   ]
  },
  {
   "cell_type": "code",
   "execution_count": 12,
   "id": "81569176-1e88-4933-8320-d1550c06ff09",
   "metadata": {
    "jupyter": {
     "source_hidden": true
    }
   },
   "outputs": [],
   "source": [
    "crf_model=CRFModel(anno_types=annos)"
   ]
  },
  {
   "cell_type": "markdown",
   "id": "a034d2e9-eb8f-4c9a-9ff6-f80cb3d38692",
   "metadata": {},
   "source": [
    "## Convert training and testing docs into sentence level dataframe"
   ]
  },
  {
   "cell_type": "code",
   "execution_count": 13,
   "id": "2191a750-1f00-4ca5-af86-8c3ea3474583",
   "metadata": {},
   "outputs": [],
   "source": [
    "_, train_df=convert_docs(train_docs, anno_types=annos)"
   ]
  },
  {
   "cell_type": "code",
   "execution_count": 14,
   "id": "9004db6c-bb4e-4031-80d9-984574d583ec",
   "metadata": {},
   "outputs": [],
   "source": [
    "_, test_df=convert_docs(test_docs, anno_types=annos)"
   ]
  },
  {
   "cell_type": "code",
   "id": "39bb6895-a0bd-4b23-9a39-cd99e157aad4",
   "metadata": {},
   "source": [
    "train_df"
   ],
   "outputs": [],
   "execution_count": null
  },
  {
   "cell_type": "code",
   "execution_count": 16,
   "id": "19eaa20e-c7c5-4ba0-a7f2-3c72177aa3be",
   "metadata": {},
   "outputs": [
    {
     "data": {
      "text/plain": [
       "array(['O', 'B-Drug', 'B-Route', 'B-Reason', 'I-Reason', 'B-Strength',\n",
       "       'I-Strength', 'B-Frequency', 'B-Duration', 'I-Duration', 'B-Form',\n",
       "       'B-Dosage', 'I-Dosage', 'B-ADE', 'I-Frequency', 'I-Drug', 'I-Form',\n",
       "       'I-Route', 'I-ADE'], dtype=object)"
      ]
     },
     "execution_count": 16,
     "metadata": {},
     "output_type": "execute_result"
    }
   ],
   "source": [
    "train_df.label.unique()"
   ]
  },
  {
   "cell_type": "markdown",
   "id": "ed143d7d-8b49-46a2-a2b0-f9036220fd8e",
   "metadata": {},
   "source": [
    "## Bootstrap 3 different initials runs"
   ]
  },
  {
   "cell_type": "code",
   "execution_count": 17,
   "id": "f0054da7-99ce-476b-abbc-b0ee52a1fbc3",
   "metadata": {},
   "outputs": [
    {
     "data": {
      "text/plain": [
       "2"
      ]
     },
     "execution_count": 17,
     "metadata": {},
     "output_type": "execute_result"
    }
   ],
   "source": [
    "boostrap_runs=3\n",
    "total_round=10\n",
    "logger.remove()\n",
    "logger.add(sys.stderr, level='INFO')"
   ]
  },
  {
   "cell_type": "code",
   "execution_count": 18,
   "id": "f27dcf48-8965-43c2-b034-dae968ced812",
   "metadata": {},
   "outputs": [
    {
     "data": {
      "text/plain": [
       "[1792286, 8843471, 4142887]"
      ]
     },
     "execution_count": 18,
     "metadata": {},
     "output_type": "execute_result"
    }
   ],
   "source": [
    "random.seed(14)\n",
    "seeds=[random.randint(1,10000000) for  _ in range(boostrap_runs)]\n",
    "seeds"
   ]
  },
  {
   "cell_type": "code",
   "execution_count": 19,
   "id": "f0b2c1d6-e6c9-407a-a272-f90003b54258",
   "metadata": {},
   "outputs": [
    {
     "name": "stderr",
     "output_type": "stream",
     "text": [
      "\u001B[32m2024-07-15 22:34:53.503\u001B[0m | \u001B[1mINFO    \u001B[0m | \u001B[36m__main__\u001B[0m:\u001B[36m<module>\u001B[0m:\u001B[36m3\u001B[0m - \u001B[1mstart run 0.\u001B[0m\n",
      "\u001B[32m2024-07-15 22:34:53.607\u001B[0m | \u001B[1mINFO    \u001B[0m | \u001B[36mALLSampler_Sentence\u001B[0m:\u001B[36msimulate_rounds\u001B[0m:\u001B[36m99\u001B[0m - \u001B[1msimulate round 0.\u001B[0m\n",
      "\u001B[32m2024-07-15 22:34:53.995\u001B[0m | \u001B[1mINFO    \u001B[0m | \u001B[36mALLSampler_Sentence\u001B[0m:\u001B[36mkeep_sample\u001B[0m:\u001B[36m89\u001B[0m - \u001B[1mcurrent sampled sentences: 200, remaining sentences: 51598\u001B[0m\n",
      "\u001B[32m2024-07-15 22:44:25.463\u001B[0m | \u001B[1mINFO    \u001B[0m | \u001B[36mALLSampler_Sentence\u001B[0m:\u001B[36msimulate_rounds\u001B[0m:\u001B[36m99\u001B[0m - \u001B[1msimulate round 1.\u001B[0m\n",
      "\u001B[32m2024-07-15 22:45:23.629\u001B[0m | \u001B[1mINFO    \u001B[0m | \u001B[36mALLSampler_Sentence\u001B[0m:\u001B[36mkeep_sample\u001B[0m:\u001B[36m89\u001B[0m - \u001B[1mcurrent sampled sentences: 400, remaining sentences: 51398\u001B[0m\n",
      "\u001B[32m2024-07-15 22:54:27.000\u001B[0m | \u001B[1mINFO    \u001B[0m | \u001B[36mALLSampler_Sentence\u001B[0m:\u001B[36msimulate_rounds\u001B[0m:\u001B[36m99\u001B[0m - \u001B[1msimulate round 2.\u001B[0m\n",
      "\u001B[32m2024-07-15 22:55:24.643\u001B[0m | \u001B[1mINFO    \u001B[0m | \u001B[36mALLSampler_Sentence\u001B[0m:\u001B[36mkeep_sample\u001B[0m:\u001B[36m89\u001B[0m - \u001B[1mcurrent sampled sentences: 600, remaining sentences: 51198\u001B[0m\n",
      "\u001B[32m2024-07-15 23:04:22.157\u001B[0m | \u001B[1mINFO    \u001B[0m | \u001B[36mALLSampler_Sentence\u001B[0m:\u001B[36msimulate_rounds\u001B[0m:\u001B[36m99\u001B[0m - \u001B[1msimulate round 3.\u001B[0m\n",
      "\u001B[32m2024-07-15 23:05:21.043\u001B[0m | \u001B[1mINFO    \u001B[0m | \u001B[36mALLSampler_Sentence\u001B[0m:\u001B[36mkeep_sample\u001B[0m:\u001B[36m89\u001B[0m - \u001B[1mcurrent sampled sentences: 800, remaining sentences: 50998\u001B[0m\n",
      "\u001B[32m2024-07-15 23:14:24.902\u001B[0m | \u001B[1mINFO    \u001B[0m | \u001B[36mALLSampler_Sentence\u001B[0m:\u001B[36msimulate_rounds\u001B[0m:\u001B[36m99\u001B[0m - \u001B[1msimulate round 4.\u001B[0m\n",
      "\u001B[32m2024-07-15 23:15:23.040\u001B[0m | \u001B[1mINFO    \u001B[0m | \u001B[36mALLSampler_Sentence\u001B[0m:\u001B[36mkeep_sample\u001B[0m:\u001B[36m89\u001B[0m - \u001B[1mcurrent sampled sentences: 1000, remaining sentences: 50798\u001B[0m\n",
      "\u001B[32m2024-07-15 23:24:29.121\u001B[0m | \u001B[1mINFO    \u001B[0m | \u001B[36mALLSampler_Sentence\u001B[0m:\u001B[36msimulate_rounds\u001B[0m:\u001B[36m99\u001B[0m - \u001B[1msimulate round 5.\u001B[0m\n",
      "\u001B[32m2024-07-15 23:25:27.123\u001B[0m | \u001B[1mINFO    \u001B[0m | \u001B[36mALLSampler_Sentence\u001B[0m:\u001B[36mkeep_sample\u001B[0m:\u001B[36m89\u001B[0m - \u001B[1mcurrent sampled sentences: 1200, remaining sentences: 50598\u001B[0m\n",
      "\u001B[32m2024-07-15 23:34:28.060\u001B[0m | \u001B[1mINFO    \u001B[0m | \u001B[36mALLSampler_Sentence\u001B[0m:\u001B[36msimulate_rounds\u001B[0m:\u001B[36m99\u001B[0m - \u001B[1msimulate round 6.\u001B[0m\n",
      "\u001B[32m2024-07-15 23:35:26.171\u001B[0m | \u001B[1mINFO    \u001B[0m | \u001B[36mALLSampler_Sentence\u001B[0m:\u001B[36mkeep_sample\u001B[0m:\u001B[36m89\u001B[0m - \u001B[1mcurrent sampled sentences: 1400, remaining sentences: 50398\u001B[0m\n",
      "\u001B[32m2024-07-15 23:44:18.674\u001B[0m | \u001B[1mINFO    \u001B[0m | \u001B[36mALLSampler_Sentence\u001B[0m:\u001B[36msimulate_rounds\u001B[0m:\u001B[36m99\u001B[0m - \u001B[1msimulate round 7.\u001B[0m\n",
      "\u001B[32m2024-07-15 23:45:16.571\u001B[0m | \u001B[1mINFO    \u001B[0m | \u001B[36mALLSampler_Sentence\u001B[0m:\u001B[36mkeep_sample\u001B[0m:\u001B[36m89\u001B[0m - \u001B[1mcurrent sampled sentences: 1600, remaining sentences: 50198\u001B[0m\n",
      "\u001B[32m2024-07-15 23:54:11.977\u001B[0m | \u001B[1mINFO    \u001B[0m | \u001B[36mALLSampler_Sentence\u001B[0m:\u001B[36msimulate_rounds\u001B[0m:\u001B[36m99\u001B[0m - \u001B[1msimulate round 8.\u001B[0m\n",
      "\u001B[32m2024-07-15 23:55:09.205\u001B[0m | \u001B[1mINFO    \u001B[0m | \u001B[36mALLSampler_Sentence\u001B[0m:\u001B[36mkeep_sample\u001B[0m:\u001B[36m89\u001B[0m - \u001B[1mcurrent sampled sentences: 1800, remaining sentences: 49998\u001B[0m\n",
      "\u001B[32m2024-07-16 00:04:16.887\u001B[0m | \u001B[1mINFO    \u001B[0m | \u001B[36mALLSampler_Sentence\u001B[0m:\u001B[36msimulate_rounds\u001B[0m:\u001B[36m99\u001B[0m - \u001B[1msimulate round 9.\u001B[0m\n",
      "\u001B[32m2024-07-16 00:05:15.279\u001B[0m | \u001B[1mINFO    \u001B[0m | \u001B[36mALLSampler_Sentence\u001B[0m:\u001B[36mkeep_sample\u001B[0m:\u001B[36m89\u001B[0m - \u001B[1mcurrent sampled sentences: 2000, remaining sentences: 49798\u001B[0m\n",
      "\u001B[32m2024-07-16 00:14:27.873\u001B[0m | \u001B[1mINFO    \u001B[0m | \u001B[36m__main__\u001B[0m:\u001B[36m<module>\u001B[0m:\u001B[36m3\u001B[0m - \u001B[1mstart run 1.\u001B[0m\n",
      "\u001B[32m2024-07-16 00:14:28.030\u001B[0m | \u001B[1mINFO    \u001B[0m | \u001B[36mALLSampler_Sentence\u001B[0m:\u001B[36msimulate_rounds\u001B[0m:\u001B[36m99\u001B[0m - \u001B[1msimulate round 0.\u001B[0m\n",
      "\u001B[32m2024-07-16 00:14:28.385\u001B[0m | \u001B[1mINFO    \u001B[0m | \u001B[36mALLSampler_Sentence\u001B[0m:\u001B[36mkeep_sample\u001B[0m:\u001B[36m89\u001B[0m - \u001B[1mcurrent sampled sentences: 200, remaining sentences: 51598\u001B[0m\n",
      "\u001B[32m2024-07-16 00:23:14.799\u001B[0m | \u001B[1mINFO    \u001B[0m | \u001B[36mALLSampler_Sentence\u001B[0m:\u001B[36msimulate_rounds\u001B[0m:\u001B[36m99\u001B[0m - \u001B[1msimulate round 1.\u001B[0m\n",
      "\u001B[32m2024-07-16 00:24:10.806\u001B[0m | \u001B[1mINFO    \u001B[0m | \u001B[36mALLSampler_Sentence\u001B[0m:\u001B[36mkeep_sample\u001B[0m:\u001B[36m89\u001B[0m - \u001B[1mcurrent sampled sentences: 400, remaining sentences: 51398\u001B[0m\n",
      "\u001B[32m2024-07-16 00:32:58.779\u001B[0m | \u001B[1mINFO    \u001B[0m | \u001B[36mALLSampler_Sentence\u001B[0m:\u001B[36msimulate_rounds\u001B[0m:\u001B[36m99\u001B[0m - \u001B[1msimulate round 2.\u001B[0m\n",
      "\u001B[32m2024-07-16 00:33:56.180\u001B[0m | \u001B[1mINFO    \u001B[0m | \u001B[36mALLSampler_Sentence\u001B[0m:\u001B[36mkeep_sample\u001B[0m:\u001B[36m89\u001B[0m - \u001B[1mcurrent sampled sentences: 600, remaining sentences: 51198\u001B[0m\n",
      "\u001B[32m2024-07-16 00:42:51.904\u001B[0m | \u001B[1mINFO    \u001B[0m | \u001B[36mALLSampler_Sentence\u001B[0m:\u001B[36msimulate_rounds\u001B[0m:\u001B[36m99\u001B[0m - \u001B[1msimulate round 3.\u001B[0m\n",
      "\u001B[32m2024-07-16 00:43:49.312\u001B[0m | \u001B[1mINFO    \u001B[0m | \u001B[36mALLSampler_Sentence\u001B[0m:\u001B[36mkeep_sample\u001B[0m:\u001B[36m89\u001B[0m - \u001B[1mcurrent sampled sentences: 800, remaining sentences: 50998\u001B[0m\n",
      "\u001B[32m2024-07-16 00:52:33.527\u001B[0m | \u001B[1mINFO    \u001B[0m | \u001B[36mALLSampler_Sentence\u001B[0m:\u001B[36msimulate_rounds\u001B[0m:\u001B[36m99\u001B[0m - \u001B[1msimulate round 4.\u001B[0m\n",
      "\u001B[32m2024-07-16 00:53:31.005\u001B[0m | \u001B[1mINFO    \u001B[0m | \u001B[36mALLSampler_Sentence\u001B[0m:\u001B[36mkeep_sample\u001B[0m:\u001B[36m89\u001B[0m - \u001B[1mcurrent sampled sentences: 1000, remaining sentences: 50798\u001B[0m\n",
      "\u001B[32m2024-07-16 01:02:17.396\u001B[0m | \u001B[1mINFO    \u001B[0m | \u001B[36mALLSampler_Sentence\u001B[0m:\u001B[36msimulate_rounds\u001B[0m:\u001B[36m99\u001B[0m - \u001B[1msimulate round 5.\u001B[0m\n",
      "\u001B[32m2024-07-16 01:03:15.231\u001B[0m | \u001B[1mINFO    \u001B[0m | \u001B[36mALLSampler_Sentence\u001B[0m:\u001B[36mkeep_sample\u001B[0m:\u001B[36m89\u001B[0m - \u001B[1mcurrent sampled sentences: 1200, remaining sentences: 50598\u001B[0m\n",
      "\u001B[32m2024-07-16 01:12:29.881\u001B[0m | \u001B[1mINFO    \u001B[0m | \u001B[36mALLSampler_Sentence\u001B[0m:\u001B[36msimulate_rounds\u001B[0m:\u001B[36m99\u001B[0m - \u001B[1msimulate round 6.\u001B[0m\n",
      "\u001B[32m2024-07-16 01:13:30.463\u001B[0m | \u001B[1mINFO    \u001B[0m | \u001B[36mALLSampler_Sentence\u001B[0m:\u001B[36mkeep_sample\u001B[0m:\u001B[36m89\u001B[0m - \u001B[1mcurrent sampled sentences: 1400, remaining sentences: 50398\u001B[0m\n",
      "\u001B[32m2024-07-16 01:22:56.811\u001B[0m | \u001B[1mINFO    \u001B[0m | \u001B[36mALLSampler_Sentence\u001B[0m:\u001B[36msimulate_rounds\u001B[0m:\u001B[36m99\u001B[0m - \u001B[1msimulate round 7.\u001B[0m\n",
      "\u001B[32m2024-07-16 01:23:57.462\u001B[0m | \u001B[1mINFO    \u001B[0m | \u001B[36mALLSampler_Sentence\u001B[0m:\u001B[36mkeep_sample\u001B[0m:\u001B[36m89\u001B[0m - \u001B[1mcurrent sampled sentences: 1600, remaining sentences: 50198\u001B[0m\n",
      "\u001B[32m2024-07-16 01:33:23.896\u001B[0m | \u001B[1mINFO    \u001B[0m | \u001B[36mALLSampler_Sentence\u001B[0m:\u001B[36msimulate_rounds\u001B[0m:\u001B[36m99\u001B[0m - \u001B[1msimulate round 8.\u001B[0m\n",
      "\u001B[32m2024-07-16 01:34:23.075\u001B[0m | \u001B[1mINFO    \u001B[0m | \u001B[36mALLSampler_Sentence\u001B[0m:\u001B[36mkeep_sample\u001B[0m:\u001B[36m89\u001B[0m - \u001B[1mcurrent sampled sentences: 1800, remaining sentences: 49998\u001B[0m\n",
      "\u001B[32m2024-07-16 01:43:41.684\u001B[0m | \u001B[1mINFO    \u001B[0m | \u001B[36mALLSampler_Sentence\u001B[0m:\u001B[36msimulate_rounds\u001B[0m:\u001B[36m99\u001B[0m - \u001B[1msimulate round 9.\u001B[0m\n",
      "\u001B[32m2024-07-16 01:44:40.185\u001B[0m | \u001B[1mINFO    \u001B[0m | \u001B[36mALLSampler_Sentence\u001B[0m:\u001B[36mkeep_sample\u001B[0m:\u001B[36m89\u001B[0m - \u001B[1mcurrent sampled sentences: 2000, remaining sentences: 49798\u001B[0m\n",
      "\u001B[32m2024-07-16 01:54:00.841\u001B[0m | \u001B[1mINFO    \u001B[0m | \u001B[36m__main__\u001B[0m:\u001B[36m<module>\u001B[0m:\u001B[36m3\u001B[0m - \u001B[1mstart run 2.\u001B[0m\n",
      "\u001B[32m2024-07-16 01:54:00.992\u001B[0m | \u001B[1mINFO    \u001B[0m | \u001B[36mALLSampler_Sentence\u001B[0m:\u001B[36msimulate_rounds\u001B[0m:\u001B[36m99\u001B[0m - \u001B[1msimulate round 0.\u001B[0m\n",
      "\u001B[32m2024-07-16 01:54:01.382\u001B[0m | \u001B[1mINFO    \u001B[0m | \u001B[36mALLSampler_Sentence\u001B[0m:\u001B[36mkeep_sample\u001B[0m:\u001B[36m89\u001B[0m - \u001B[1mcurrent sampled sentences: 200, remaining sentences: 51598\u001B[0m\n",
      "\u001B[32m2024-07-16 02:02:57.847\u001B[0m | \u001B[1mINFO    \u001B[0m | \u001B[36mALLSampler_Sentence\u001B[0m:\u001B[36msimulate_rounds\u001B[0m:\u001B[36m99\u001B[0m - \u001B[1msimulate round 1.\u001B[0m\n",
      "\u001B[32m2024-07-16 02:03:52.805\u001B[0m | \u001B[1mINFO    \u001B[0m | \u001B[36mALLSampler_Sentence\u001B[0m:\u001B[36mkeep_sample\u001B[0m:\u001B[36m89\u001B[0m - \u001B[1mcurrent sampled sentences: 400, remaining sentences: 51398\u001B[0m\n",
      "\u001B[32m2024-07-16 02:13:03.210\u001B[0m | \u001B[1mINFO    \u001B[0m | \u001B[36mALLSampler_Sentence\u001B[0m:\u001B[36msimulate_rounds\u001B[0m:\u001B[36m99\u001B[0m - \u001B[1msimulate round 2.\u001B[0m\n",
      "\u001B[32m2024-07-16 02:14:00.019\u001B[0m | \u001B[1mINFO    \u001B[0m | \u001B[36mALLSampler_Sentence\u001B[0m:\u001B[36mkeep_sample\u001B[0m:\u001B[36m89\u001B[0m - \u001B[1mcurrent sampled sentences: 600, remaining sentences: 51198\u001B[0m\n",
      "\u001B[32m2024-07-16 02:23:08.224\u001B[0m | \u001B[1mINFO    \u001B[0m | \u001B[36mALLSampler_Sentence\u001B[0m:\u001B[36msimulate_rounds\u001B[0m:\u001B[36m99\u001B[0m - \u001B[1msimulate round 3.\u001B[0m\n",
      "\u001B[32m2024-07-16 02:24:06.127\u001B[0m | \u001B[1mINFO    \u001B[0m | \u001B[36mALLSampler_Sentence\u001B[0m:\u001B[36mkeep_sample\u001B[0m:\u001B[36m89\u001B[0m - \u001B[1mcurrent sampled sentences: 800, remaining sentences: 50998\u001B[0m\n",
      "\u001B[32m2024-07-16 02:33:12.650\u001B[0m | \u001B[1mINFO    \u001B[0m | \u001B[36mALLSampler_Sentence\u001B[0m:\u001B[36msimulate_rounds\u001B[0m:\u001B[36m99\u001B[0m - \u001B[1msimulate round 4.\u001B[0m\n",
      "\u001B[32m2024-07-16 02:34:11.257\u001B[0m | \u001B[1mINFO    \u001B[0m | \u001B[36mALLSampler_Sentence\u001B[0m:\u001B[36mkeep_sample\u001B[0m:\u001B[36m89\u001B[0m - \u001B[1mcurrent sampled sentences: 1000, remaining sentences: 50798\u001B[0m\n",
      "\u001B[32m2024-07-16 02:43:22.373\u001B[0m | \u001B[1mINFO    \u001B[0m | \u001B[36mALLSampler_Sentence\u001B[0m:\u001B[36msimulate_rounds\u001B[0m:\u001B[36m99\u001B[0m - \u001B[1msimulate round 5.\u001B[0m\n",
      "\u001B[32m2024-07-16 02:44:21.473\u001B[0m | \u001B[1mINFO    \u001B[0m | \u001B[36mALLSampler_Sentence\u001B[0m:\u001B[36mkeep_sample\u001B[0m:\u001B[36m89\u001B[0m - \u001B[1mcurrent sampled sentences: 1200, remaining sentences: 50598\u001B[0m\n",
      "\u001B[32m2024-07-16 02:53:38.064\u001B[0m | \u001B[1mINFO    \u001B[0m | \u001B[36mALLSampler_Sentence\u001B[0m:\u001B[36msimulate_rounds\u001B[0m:\u001B[36m99\u001B[0m - \u001B[1msimulate round 6.\u001B[0m\n",
      "\u001B[32m2024-07-16 02:54:36.818\u001B[0m | \u001B[1mINFO    \u001B[0m | \u001B[36mALLSampler_Sentence\u001B[0m:\u001B[36mkeep_sample\u001B[0m:\u001B[36m89\u001B[0m - \u001B[1mcurrent sampled sentences: 1400, remaining sentences: 50398\u001B[0m\n",
      "\u001B[32m2024-07-16 03:03:56.812\u001B[0m | \u001B[1mINFO    \u001B[0m | \u001B[36mALLSampler_Sentence\u001B[0m:\u001B[36msimulate_rounds\u001B[0m:\u001B[36m99\u001B[0m - \u001B[1msimulate round 7.\u001B[0m\n",
      "\u001B[32m2024-07-16 03:04:57.549\u001B[0m | \u001B[1mINFO    \u001B[0m | \u001B[36mALLSampler_Sentence\u001B[0m:\u001B[36mkeep_sample\u001B[0m:\u001B[36m89\u001B[0m - \u001B[1mcurrent sampled sentences: 1600, remaining sentences: 50198\u001B[0m\n",
      "\u001B[32m2024-07-16 03:14:15.718\u001B[0m | \u001B[1mINFO    \u001B[0m | \u001B[36mALLSampler_Sentence\u001B[0m:\u001B[36msimulate_rounds\u001B[0m:\u001B[36m99\u001B[0m - \u001B[1msimulate round 8.\u001B[0m\n",
      "\u001B[32m2024-07-16 03:15:13.185\u001B[0m | \u001B[1mINFO    \u001B[0m | \u001B[36mALLSampler_Sentence\u001B[0m:\u001B[36mkeep_sample\u001B[0m:\u001B[36m89\u001B[0m - \u001B[1mcurrent sampled sentences: 1800, remaining sentences: 49998\u001B[0m\n",
      "\u001B[32m2024-07-16 03:24:04.445\u001B[0m | \u001B[1mINFO    \u001B[0m | \u001B[36mALLSampler_Sentence\u001B[0m:\u001B[36msimulate_rounds\u001B[0m:\u001B[36m99\u001B[0m - \u001B[1msimulate round 9.\u001B[0m\n",
      "\u001B[32m2024-07-16 03:24:58.541\u001B[0m | \u001B[1mINFO    \u001B[0m | \u001B[36mALLSampler_Sentence\u001B[0m:\u001B[36mkeep_sample\u001B[0m:\u001B[36m89\u001B[0m - \u001B[1mcurrent sampled sentences: 2000, remaining sentences: 49798\u001B[0m\n"
     ]
    },
    {
     "name": "stdout",
     "output_type": "stream",
     "text": [
      "CPU times: total: 4h 58min 36s\n",
      "Wall time: 4h 58min 42s\n"
     ]
    }
   ],
   "source": [
    "%%time\n",
    "all_scores=[]\n",
    "for si, seed  in enumerate(seeds):\n",
    "    logger.info(f'start run {si}.')\n",
    "    crf_model=CRFModel(anno_types=annos, topNUncertainToken=400)\n",
    "    m_simulator=ModelSamplingSimulator(total_sents=train_df, \n",
    "                                   total_round=10, \n",
    "                                   modelWrapper=crf_model, \n",
    "                                   eval_sents=test_df, \n",
    "                                   init_seed=seed,\n",
    "                                   sample_all_on_last_round=False)  \n",
    "    m_simulator.num_per_round=200\n",
    "    scores=m_simulator.simulate_rounds(boostrap_times=500)\n",
    "    all_scores.append(scores) "
   ]
  },
  {
   "cell_type": "code",
   "execution_count": 20,
   "id": "7f948158-e601-4bf5-b198-858598c65992",
   "metadata": {},
   "outputs": [
    {
     "data": {
      "text/plain": [
       "['../data/n2c2/scores_sentence_sampling/ner_crf_scores_sentenceSampling_full500bootstrap.joblib']"
      ]
     },
     "execution_count": 20,
     "metadata": {},
     "output_type": "execute_result"
    }
   ],
   "source": [
    "joblib.dump(all_scores, r'../data/n2c2/scores_sentence_sampling/ner_crf_scores_sentenceSampling_full500bootstrap.joblib')\n"
   ]
  },
  {
   "cell_type": "markdown",
   "id": "e7add995-c7b8-49bc-8cff-1fb15afdcd76",
   "metadata": {},
   "source": [
    " ## Debug"
   ]
  },
  {
   "cell_type": "code",
   "execution_count": null,
   "id": "87a1aa6e-f9b0-4c3f-b222-2c0232d208f8",
   "metadata": {},
   "outputs": [],
   "source": []
  }
 ],
 "metadata": {
  "kernelspec": {
   "display_name": "Python 3 (ipykernel)",
   "language": "python",
   "name": "python3"
  },
  "language_info": {
   "codemirror_mode": {
    "name": "ipython",
    "version": 3
   },
   "file_extension": ".py",
   "mimetype": "text/x-python",
   "name": "python",
   "nbconvert_exporter": "python",
   "pygments_lexer": "ipython3",
   "version": "3.8.18"
  }
 },
 "nbformat": 4,
 "nbformat_minor": 5
}
