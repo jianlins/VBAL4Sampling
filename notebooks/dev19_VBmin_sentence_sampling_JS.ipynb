{
 "cells": [
  {
   "cell_type": "code",
   "execution_count": 1,
   "id": "8da3230f-335f-4d53-a2ca-5c7e8eab30e2",
   "metadata": {},
   "outputs": [],
   "source": [
    "import sklearn_crfsuite\n",
    "from sklearn_crfsuite.metrics import flat_f1_score\n",
    "from sklearn_crfsuite import CRF\n",
    "from sklearn.model_selection import train_test_split\n",
    "import pandas as pd\n",
    "import numpy as np\n",
    "from spacy.lang.en import English\n",
    "from spacy import displacy\n",
    "from pathlib import Path\n",
    "import joblib\n",
    "from spacy.tokens import Doc\n",
    "from typing import List\n",
    "import random\n",
    "from statistics import mean, stdev\n",
    "from loguru import logger\n",
    "import sys\n",
    "import spacy\n",
    "from medspacy_io.reader.brat_reader import BratDocReader, BratDirReader\n",
    "import medspacy"
   ]
  },
  {
   "cell_type": "markdown",
   "id": "c92da319-7b9d-4e20-af3f-a93467d42cf7",
   "metadata": {},
   "source": [
    "## initialize brat reader"
   ]
  },
  {
   "cell_type": "code",
   "execution_count": 2,
   "id": "ae4f89f3-bdfa-43cc-999a-e80c0614a883",
   "metadata": {},
   "outputs": [
    {
     "data": {
      "text/plain": [
       "(True, True)"
      ]
     },
     "execution_count": 2,
     "metadata": {},
     "output_type": "execute_result"
    }
   ],
   "source": [
    "cleaned_train_dir=r'..\\data\\n2c2\\cleaned_training'\n",
    "cleaned_test_dir=r'..\\data\\n2c2\\cleaned_test'\n",
    "Path(cleaned_train_dir).exists(), Path(cleaned_test_dir).exists()"
   ]
  },
  {
   "cell_type": "code",
   "execution_count": 3,
   "id": "19613a81-d87c-48b6-997f-e2ad86cae41a",
   "metadata": {},
   "outputs": [],
   "source": [
    "nlp=spacy.load('en_core_web_sm', disable=['ner'])"
   ]
  },
  {
   "cell_type": "code",
   "execution_count": 4,
   "id": "931a0b6d-f5a4-4ee9-a504-d6911c18bd9e",
   "metadata": {},
   "outputs": [],
   "source": [
    "dir_reader = BratDirReader(nlp=nlp, schema_file=str(Path(cleaned_train_dir, 'annotation.conf')), support_overlap=True)"
   ]
  },
  {
   "cell_type": "markdown",
   "id": "37352202-29dd-4022-96ec-506d498e15f4",
   "metadata": {},
   "source": [
    "## Read eHOST annotations | load from pickles"
   ]
  },
  {
   "cell_type": "code",
   "execution_count": 5,
   "id": "4a901ab0-3717-48f8-9b50-8cfded89f6e4",
   "metadata": {},
   "outputs": [],
   "source": [
    "pickle_file= r'..\\data\\n2c2\\spacy_docs.joblib'"
   ]
  },
  {
   "cell_type": "code",
   "execution_count": 6,
   "id": "c9e2c669-8f6f-491e-b553-c756028118f6",
   "metadata": {},
   "outputs": [
    {
     "name": "stdout",
     "output_type": "stream",
     "text": [
      "..\\data\\n2c2\\spacy_docs.joblib already exists, load them directly\n"
     ]
    }
   ],
   "source": [
    "if not Path(pickle_file).exists():\n",
    "    train_docs=dir_reader.read(txt_dir=cleaned_train_dir)\n",
    "    test_docs=dir_reader.read(txt_dir=cleaned_test_dir)\n",
    "    print(len(train_docs), len(test_docs))\n",
    "    joblib.dump((train_docs, test_docs), pickle_file)\n",
    "else:\n",
    "    print(f'{pickle_file} already exists, load them directly')\n",
    "    # before load from pickle, initiate EhostDirReader or EhostDocReader first, because some Doc extension used to store meta data will not be automatically recreated by loading.\n",
    "    train_docs, test_docs=joblib.load(pickle_file)"
   ]
  },
  {
   "cell_type": "markdown",
   "id": "9e7b5425-5cff-4762-bc07-329ed3b5f853",
   "metadata": {},
   "source": [
    "## CRF Wrapper (only use for eval)"
   ]
  },
  {
   "cell_type": "code",
   "execution_count": 7,
   "id": "40e08f2a-c09c-4542-bec0-c9d7ae55d1f3",
   "metadata": {},
   "outputs": [],
   "source": [
    "from CRFWrapper_Sentence import spans_to_bio, convert_docs, word2features, sent2features,compute_metrics_and_averages,  CRFModel\n"
   ]
  },
  {
   "cell_type": "code",
   "execution_count": 8,
   "id": "2ee71f97-03fc-4150-b055-f402b1c5ca84",
   "metadata": {},
   "outputs": [
    {
     "name": "stdout",
     "output_type": "stream",
     "text": [
      "{'Form', 'Reason', 'Strength', 'Drug', 'Duration', 'Route', 'ADE', 'Frequency', 'Dosage'}\n"
     ]
    }
   ],
   "source": [
    "## Get all annotation types: \n",
    "annos=set()\n",
    "for d in train_docs:\n",
    "    for anno in d.spans.keys():\n",
    "        annos.add(anno)\n",
    "print(annos)"
   ]
  },
  {
   "cell_type": "markdown",
   "id": "2129ae7b-f347-4c5b-b4ff-0d71e00f1969",
   "metadata": {},
   "source": [
    "## converting docs into sentence level dataframe"
   ]
  },
  {
   "cell_type": "code",
   "execution_count": 9,
   "id": "fd65a537-7137-4ca6-9ec1-dfdbab3cdae7",
   "metadata": {},
   "outputs": [],
   "source": [
    "from ALLSampler_Sentence import SamplingSimulator, ModelSamplingSimulator, VBSamplingSimulator, convert_docs_medspacyIOvec"
   ]
  },
  {
   "cell_type": "code",
   "execution_count": 10,
   "id": "ec2f24ad-9e1b-4e18-b21e-75b537ddff32",
   "metadata": {},
   "outputs": [],
   "source": [
    "sdf_labels_train=convert_docs_medspacyIOvec(train_docs)"
   ]
  },
  {
   "cell_type": "code",
   "execution_count": 11,
   "id": "eb168e43-ad22-4fcd-9550-84089464fac7",
   "metadata": {},
   "outputs": [],
   "source": [
    "_, train_df=convert_docs(train_docs, anno_types=annos)"
   ]
  },
  {
   "cell_type": "code",
   "execution_count": 12,
   "id": "9e06d6b6-ef24-40e9-bcb7-24b77299e458",
   "metadata": {},
   "outputs": [],
   "source": [
    "_, test_df=convert_docs(test_docs, anno_types=annos)"
   ]
  },
  {
   "cell_type": "code",
   "execution_count": 13,
   "id": "51ba0f01-9e9e-4d6b-959e-b11dfed567c6",
   "metadata": {},
   "outputs": [],
   "source": [
    "# embedding for unique sentence\n",
    "pickle_embedding_file= r'..\\data\\n2c2\\embedding_df_uniqueSentID.joblib'\n",
    "if Path(pickle_embedding_file).exists():\n",
    "    embedding_df=joblib.load(pickle_embedding_file)"
   ]
  },
  {
   "cell_type": "code",
   "execution_count": 14,
   "id": "11198fcb-7446-44fe-97b7-74835a02ee72",
   "metadata": {},
   "outputs": [],
   "source": [
    "sdf_labels_sid = sdf_labels_train.merge(embedding_df, how='inner', on='sentence') "
   ]
  },
  {
   "cell_type": "code",
   "execution_count": 15,
   "id": "5ab0c17f-7ceb-46c9-8c7e-e15b0a332af6",
   "metadata": {
    "scrolled": true
   },
   "outputs": [
    {
     "ename": "NameError",
     "evalue": "name 'vb_simulator' is not defined",
     "output_type": "error",
     "traceback": [
      "\u001b[1;31m---------------------------------------------------------------------------\u001b[0m",
      "\u001b[1;31mNameError\u001b[0m                                 Traceback (most recent call last)",
      "Cell \u001b[1;32mIn[15], line 1\u001b[0m\n\u001b[1;32m----> 1\u001b[0m scores\u001b[38;5;241m=\u001b[39m\u001b[43mvb_simulator\u001b[49m\u001b[38;5;241m.\u001b[39msimulate_rounds(boostrap_times\u001b[38;5;241m=\u001b[39m\u001b[38;5;241m3\u001b[39m)\n",
      "\u001b[1;31mNameError\u001b[0m: name 'vb_simulator' is not defined"
     ]
    }
   ],
   "source": [
    "scores=vb_simulator.simulate_rounds(boostrap_times=3)"
   ]
  },
  {
   "cell_type": "code",
   "execution_count": null,
   "id": "8071dd53-e087-43f2-8bf5-8010f2f99fa2",
   "metadata": {},
   "outputs": [],
   "source": [
    "def compute_mean_ci(scores):\n",
    "    ave=np.mean(scores)\n",
    "    ci=np.percentile(scores, [2.5, 97.5])\n",
    "    return ave, ci\n",
    "\n",
    "summary={'precision': [], 'pl':[], 'pu': [], 'recall': [], 'rl':[], 'ru': [], 'f1':[], 'fl':[], 'fu': []}\n",
    "for s in scores:    \n",
    "    for k,v in s.items():\n",
    "        ave, (l, u)=compute_mean_ci(v)\n",
    "        summary[k].append(ave)\n",
    "        summary[k[0]+'l'].append(l)\n",
    "        summary[k[0]+'u'].append(u)"
   ]
  },
  {
   "cell_type": "code",
   "execution_count": null,
   "id": "6f85330b-287c-432f-a2cb-528f193fda14",
   "metadata": {
    "scrolled": true
   },
   "outputs": [],
   "source": [
    "pd.options.display.float_format='{:,.5f}'.format\n",
    "pd.DataFrame(summary)"
   ]
  },
  {
   "cell_type": "code",
   "execution_count": 16,
   "id": "ab9d3eb0-e299-499c-af61-612825e02af5",
   "metadata": {},
   "outputs": [
    {
     "data": {
      "text/plain": [
       "(638692, 6)"
      ]
     },
     "execution_count": 16,
     "metadata": {},
     "output_type": "execute_result"
    }
   ],
   "source": [
    "sdf_labels_sid.shape"
   ]
  },
  {
   "cell_type": "markdown",
   "id": "7636d6a8-2388-4bab-9e9f-9f5c5393c84a",
   "metadata": {},
   "source": [
    "## bootstrap 3 runs"
   ]
  },
  {
   "cell_type": "code",
   "execution_count": 17,
   "id": "56a703bc-0654-432c-9ac3-cf0c725c7c59",
   "metadata": {},
   "outputs": [
    {
     "data": {
      "text/plain": [
       "1"
      ]
     },
     "execution_count": 17,
     "metadata": {},
     "output_type": "execute_result"
    }
   ],
   "source": [
    "logger.remove()\n",
    "logger.add(sys.stderr, level='INFO')"
   ]
  },
  {
   "cell_type": "code",
   "execution_count": 18,
   "id": "ee4ec003-f943-4550-a5bc-f6008fda0fc0",
   "metadata": {},
   "outputs": [],
   "source": [
    "boostrap_runs=3\n",
    "total_round=10"
   ]
  },
  {
   "cell_type": "code",
   "execution_count": 19,
   "id": "747edbcc-0a6e-4b3c-b3ac-54777bacb7f5",
   "metadata": {},
   "outputs": [
    {
     "data": {
      "text/plain": [
       "[1792286, 8843471, 4142887]"
      ]
     },
     "execution_count": 19,
     "metadata": {},
     "output_type": "execute_result"
    }
   ],
   "source": [
    "random.seed(14)\n",
    "seeds=[random.randint(1,10000000) for  _ in range(boostrap_runs)]\n",
    "seeds"
   ]
  },
  {
   "cell_type": "code",
   "execution_count": 20,
   "id": "f7cf49d7-24b0-4d8c-ab40-6a879d7e6d7a",
   "metadata": {
    "scrolled": true
   },
   "outputs": [
    {
     "name": "stderr",
     "output_type": "stream",
     "text": [
      "\u001b[32m2024-07-16 01:12:24.502\u001b[0m | \u001b[1mINFO    \u001b[0m | \u001b[36m__main__\u001b[0m:\u001b[36m<module>\u001b[0m:\u001b[36m6\u001b[0m - \u001b[1mstart run 0.\u001b[0m\n",
      "\u001b[32m2024-07-16 01:12:25.281\u001b[0m | \u001b[1mINFO    \u001b[0m | \u001b[36mALLSampler_Sentence\u001b[0m:\u001b[36msimulate_rounds\u001b[0m:\u001b[36m99\u001b[0m - \u001b[1msimulate round 0.\u001b[0m\n",
      "\u001b[32m2024-07-16 01:12:25.687\u001b[0m | \u001b[1mINFO    \u001b[0m | \u001b[36mALLSampler_Sentence\u001b[0m:\u001b[36mkeep_sample\u001b[0m:\u001b[36m89\u001b[0m - \u001b[1mcurrent sampled sentences: 200, remaining sentences: 51598\u001b[0m\n",
      "\u001b[32m2024-07-16 01:21:31.058\u001b[0m | \u001b[1mINFO    \u001b[0m | \u001b[36mALLSampler_Sentence\u001b[0m:\u001b[36msimulate_rounds\u001b[0m:\u001b[36m99\u001b[0m - \u001b[1msimulate round 1.\u001b[0m\n",
      "\u001b[32m2024-07-16 01:21:37.870\u001b[0m | \u001b[1mINFO    \u001b[0m | \u001b[36mALLSampler_Sentence\u001b[0m:\u001b[36mkeep_sample\u001b[0m:\u001b[36m89\u001b[0m - \u001b[1mcurrent sampled sentences: 400, remaining sentences: 51398\u001b[0m\n",
      "\u001b[32m2024-07-16 01:30:52.776\u001b[0m | \u001b[1mINFO    \u001b[0m | \u001b[36mALLSampler_Sentence\u001b[0m:\u001b[36msimulate_rounds\u001b[0m:\u001b[36m99\u001b[0m - \u001b[1msimulate round 2.\u001b[0m\n",
      "\u001b[32m2024-07-16 01:30:59.635\u001b[0m | \u001b[1mINFO    \u001b[0m | \u001b[36mALLSampler_Sentence\u001b[0m:\u001b[36mkeep_sample\u001b[0m:\u001b[36m89\u001b[0m - \u001b[1mcurrent sampled sentences: 600, remaining sentences: 51198\u001b[0m\n",
      "\u001b[32m2024-07-16 01:40:06.518\u001b[0m | \u001b[1mINFO    \u001b[0m | \u001b[36mALLSampler_Sentence\u001b[0m:\u001b[36msimulate_rounds\u001b[0m:\u001b[36m99\u001b[0m - \u001b[1msimulate round 3.\u001b[0m\n",
      "\u001b[32m2024-07-16 01:40:13.684\u001b[0m | \u001b[1mINFO    \u001b[0m | \u001b[36mALLSampler_Sentence\u001b[0m:\u001b[36mkeep_sample\u001b[0m:\u001b[36m89\u001b[0m - \u001b[1mcurrent sampled sentences: 800, remaining sentences: 50998\u001b[0m\n",
      "\u001b[32m2024-07-16 01:49:30.899\u001b[0m | \u001b[1mINFO    \u001b[0m | \u001b[36mALLSampler_Sentence\u001b[0m:\u001b[36msimulate_rounds\u001b[0m:\u001b[36m99\u001b[0m - \u001b[1msimulate round 4.\u001b[0m\n",
      "\u001b[32m2024-07-16 01:49:39.687\u001b[0m | \u001b[1mINFO    \u001b[0m | \u001b[36mALLSampler_Sentence\u001b[0m:\u001b[36mkeep_sample\u001b[0m:\u001b[36m89\u001b[0m - \u001b[1mcurrent sampled sentences: 1000, remaining sentences: 50798\u001b[0m\n",
      "\u001b[32m2024-07-16 01:58:56.070\u001b[0m | \u001b[1mINFO    \u001b[0m | \u001b[36mALLSampler_Sentence\u001b[0m:\u001b[36msimulate_rounds\u001b[0m:\u001b[36m99\u001b[0m - \u001b[1msimulate round 5.\u001b[0m\n",
      "\u001b[32m2024-07-16 01:59:06.622\u001b[0m | \u001b[1mINFO    \u001b[0m | \u001b[36mALLSampler_Sentence\u001b[0m:\u001b[36mkeep_sample\u001b[0m:\u001b[36m89\u001b[0m - \u001b[1mcurrent sampled sentences: 1200, remaining sentences: 50598\u001b[0m\n",
      "\u001b[32m2024-07-16 02:08:32.006\u001b[0m | \u001b[1mINFO    \u001b[0m | \u001b[36mALLSampler_Sentence\u001b[0m:\u001b[36msimulate_rounds\u001b[0m:\u001b[36m99\u001b[0m - \u001b[1msimulate round 6.\u001b[0m\n",
      "\u001b[32m2024-07-16 02:08:44.589\u001b[0m | \u001b[1mINFO    \u001b[0m | \u001b[36mALLSampler_Sentence\u001b[0m:\u001b[36mkeep_sample\u001b[0m:\u001b[36m89\u001b[0m - \u001b[1mcurrent sampled sentences: 1400, remaining sentences: 50398\u001b[0m\n",
      "\u001b[32m2024-07-16 02:18:06.515\u001b[0m | \u001b[1mINFO    \u001b[0m | \u001b[36mALLSampler_Sentence\u001b[0m:\u001b[36msimulate_rounds\u001b[0m:\u001b[36m99\u001b[0m - \u001b[1msimulate round 7.\u001b[0m\n",
      "\u001b[32m2024-07-16 02:18:21.492\u001b[0m | \u001b[1mINFO    \u001b[0m | \u001b[36mALLSampler_Sentence\u001b[0m:\u001b[36mkeep_sample\u001b[0m:\u001b[36m89\u001b[0m - \u001b[1mcurrent sampled sentences: 1600, remaining sentences: 50198\u001b[0m\n",
      "\u001b[32m2024-07-16 02:27:49.491\u001b[0m | \u001b[1mINFO    \u001b[0m | \u001b[36mALLSampler_Sentence\u001b[0m:\u001b[36msimulate_rounds\u001b[0m:\u001b[36m99\u001b[0m - \u001b[1msimulate round 8.\u001b[0m\n",
      "\u001b[32m2024-07-16 02:28:06.202\u001b[0m | \u001b[1mINFO    \u001b[0m | \u001b[36mALLSampler_Sentence\u001b[0m:\u001b[36mkeep_sample\u001b[0m:\u001b[36m89\u001b[0m - \u001b[1mcurrent sampled sentences: 1800, remaining sentences: 49998\u001b[0m\n",
      "\u001b[32m2024-07-16 02:37:35.068\u001b[0m | \u001b[1mINFO    \u001b[0m | \u001b[36mALLSampler_Sentence\u001b[0m:\u001b[36msimulate_rounds\u001b[0m:\u001b[36m99\u001b[0m - \u001b[1msimulate round 9.\u001b[0m\n",
      "\u001b[32m2024-07-16 02:37:52.447\u001b[0m | \u001b[1mINFO    \u001b[0m | \u001b[36mALLSampler_Sentence\u001b[0m:\u001b[36mkeep_sample\u001b[0m:\u001b[36m89\u001b[0m - \u001b[1mcurrent sampled sentences: 2000, remaining sentences: 49798\u001b[0m\n",
      "\u001b[32m2024-07-16 02:47:23.175\u001b[0m | \u001b[1mINFO    \u001b[0m | \u001b[36m__main__\u001b[0m:\u001b[36m<module>\u001b[0m:\u001b[36m6\u001b[0m - \u001b[1mstart run 1.\u001b[0m\n",
      "\u001b[32m2024-07-16 02:47:23.940\u001b[0m | \u001b[1mINFO    \u001b[0m | \u001b[36mALLSampler_Sentence\u001b[0m:\u001b[36msimulate_rounds\u001b[0m:\u001b[36m99\u001b[0m - \u001b[1msimulate round 0.\u001b[0m\n",
      "\u001b[32m2024-07-16 02:47:24.325\u001b[0m | \u001b[1mINFO    \u001b[0m | \u001b[36mALLSampler_Sentence\u001b[0m:\u001b[36mkeep_sample\u001b[0m:\u001b[36m89\u001b[0m - \u001b[1mcurrent sampled sentences: 200, remaining sentences: 51598\u001b[0m\n",
      "\u001b[32m2024-07-16 02:56:26.224\u001b[0m | \u001b[1mINFO    \u001b[0m | \u001b[36mALLSampler_Sentence\u001b[0m:\u001b[36msimulate_rounds\u001b[0m:\u001b[36m99\u001b[0m - \u001b[1msimulate round 1.\u001b[0m\n",
      "\u001b[32m2024-07-16 02:56:32.748\u001b[0m | \u001b[1mINFO    \u001b[0m | \u001b[36mALLSampler_Sentence\u001b[0m:\u001b[36mkeep_sample\u001b[0m:\u001b[36m89\u001b[0m - \u001b[1mcurrent sampled sentences: 400, remaining sentences: 51398\u001b[0m\n",
      "\u001b[32m2024-07-16 03:05:31.247\u001b[0m | \u001b[1mINFO    \u001b[0m | \u001b[36mALLSampler_Sentence\u001b[0m:\u001b[36msimulate_rounds\u001b[0m:\u001b[36m99\u001b[0m - \u001b[1msimulate round 2.\u001b[0m\n",
      "\u001b[32m2024-07-16 03:05:39.720\u001b[0m | \u001b[1mINFO    \u001b[0m | \u001b[36mALLSampler_Sentence\u001b[0m:\u001b[36mkeep_sample\u001b[0m:\u001b[36m89\u001b[0m - \u001b[1mcurrent sampled sentences: 600, remaining sentences: 51198\u001b[0m\n",
      "\u001b[32m2024-07-16 03:14:34.098\u001b[0m | \u001b[1mINFO    \u001b[0m | \u001b[36mALLSampler_Sentence\u001b[0m:\u001b[36msimulate_rounds\u001b[0m:\u001b[36m99\u001b[0m - \u001b[1msimulate round 3.\u001b[0m\n",
      "\u001b[32m2024-07-16 03:14:43.981\u001b[0m | \u001b[1mINFO    \u001b[0m | \u001b[36mALLSampler_Sentence\u001b[0m:\u001b[36mkeep_sample\u001b[0m:\u001b[36m89\u001b[0m - \u001b[1mcurrent sampled sentences: 800, remaining sentences: 50998\u001b[0m\n",
      "\u001b[32m2024-07-16 03:23:15.383\u001b[0m | \u001b[1mINFO    \u001b[0m | \u001b[36mALLSampler_Sentence\u001b[0m:\u001b[36msimulate_rounds\u001b[0m:\u001b[36m99\u001b[0m - \u001b[1msimulate round 4.\u001b[0m\n",
      "\u001b[32m2024-07-16 03:23:26.517\u001b[0m | \u001b[1mINFO    \u001b[0m | \u001b[36mALLSampler_Sentence\u001b[0m:\u001b[36mkeep_sample\u001b[0m:\u001b[36m89\u001b[0m - \u001b[1mcurrent sampled sentences: 1000, remaining sentences: 50798\u001b[0m\n",
      "\u001b[32m2024-07-16 03:31:45.024\u001b[0m | \u001b[1mINFO    \u001b[0m | \u001b[36mALLSampler_Sentence\u001b[0m:\u001b[36msimulate_rounds\u001b[0m:\u001b[36m99\u001b[0m - \u001b[1msimulate round 5.\u001b[0m\n",
      "\u001b[32m2024-07-16 03:31:57.107\u001b[0m | \u001b[1mINFO    \u001b[0m | \u001b[36mALLSampler_Sentence\u001b[0m:\u001b[36mkeep_sample\u001b[0m:\u001b[36m89\u001b[0m - \u001b[1mcurrent sampled sentences: 1200, remaining sentences: 50598\u001b[0m\n",
      "\u001b[32m2024-07-16 03:40:16.190\u001b[0m | \u001b[1mINFO    \u001b[0m | \u001b[36mALLSampler_Sentence\u001b[0m:\u001b[36msimulate_rounds\u001b[0m:\u001b[36m99\u001b[0m - \u001b[1msimulate round 6.\u001b[0m\n",
      "\u001b[32m2024-07-16 03:40:29.797\u001b[0m | \u001b[1mINFO    \u001b[0m | \u001b[36mALLSampler_Sentence\u001b[0m:\u001b[36mkeep_sample\u001b[0m:\u001b[36m89\u001b[0m - \u001b[1mcurrent sampled sentences: 1400, remaining sentences: 50398\u001b[0m\n",
      "\u001b[32m2024-07-16 03:48:48.440\u001b[0m | \u001b[1mINFO    \u001b[0m | \u001b[36mALLSampler_Sentence\u001b[0m:\u001b[36msimulate_rounds\u001b[0m:\u001b[36m99\u001b[0m - \u001b[1msimulate round 7.\u001b[0m\n",
      "\u001b[32m2024-07-16 03:49:05.375\u001b[0m | \u001b[1mINFO    \u001b[0m | \u001b[36mALLSampler_Sentence\u001b[0m:\u001b[36mkeep_sample\u001b[0m:\u001b[36m89\u001b[0m - \u001b[1mcurrent sampled sentences: 1600, remaining sentences: 50198\u001b[0m\n",
      "\u001b[32m2024-07-16 03:57:22.773\u001b[0m | \u001b[1mINFO    \u001b[0m | \u001b[36mALLSampler_Sentence\u001b[0m:\u001b[36msimulate_rounds\u001b[0m:\u001b[36m99\u001b[0m - \u001b[1msimulate round 8.\u001b[0m\n",
      "\u001b[32m2024-07-16 03:57:42.851\u001b[0m | \u001b[1mINFO    \u001b[0m | \u001b[36mALLSampler_Sentence\u001b[0m:\u001b[36mkeep_sample\u001b[0m:\u001b[36m89\u001b[0m - \u001b[1mcurrent sampled sentences: 1800, remaining sentences: 49998\u001b[0m\n",
      "\u001b[32m2024-07-16 04:06:12.077\u001b[0m | \u001b[1mINFO    \u001b[0m | \u001b[36mALLSampler_Sentence\u001b[0m:\u001b[36msimulate_rounds\u001b[0m:\u001b[36m99\u001b[0m - \u001b[1msimulate round 9.\u001b[0m\n",
      "\u001b[32m2024-07-16 04:06:33.519\u001b[0m | \u001b[1mINFO    \u001b[0m | \u001b[36mALLSampler_Sentence\u001b[0m:\u001b[36mkeep_sample\u001b[0m:\u001b[36m89\u001b[0m - \u001b[1mcurrent sampled sentences: 2000, remaining sentences: 49798\u001b[0m\n",
      "\u001b[32m2024-07-16 04:15:04.903\u001b[0m | \u001b[1mINFO    \u001b[0m | \u001b[36m__main__\u001b[0m:\u001b[36m<module>\u001b[0m:\u001b[36m6\u001b[0m - \u001b[1mstart run 2.\u001b[0m\n",
      "\u001b[32m2024-07-16 04:15:05.648\u001b[0m | \u001b[1mINFO    \u001b[0m | \u001b[36mALLSampler_Sentence\u001b[0m:\u001b[36msimulate_rounds\u001b[0m:\u001b[36m99\u001b[0m - \u001b[1msimulate round 0.\u001b[0m\n",
      "\u001b[32m2024-07-16 04:15:05.991\u001b[0m | \u001b[1mINFO    \u001b[0m | \u001b[36mALLSampler_Sentence\u001b[0m:\u001b[36mkeep_sample\u001b[0m:\u001b[36m89\u001b[0m - \u001b[1mcurrent sampled sentences: 200, remaining sentences: 51598\u001b[0m\n",
      "\u001b[32m2024-07-16 04:23:03.299\u001b[0m | \u001b[1mINFO    \u001b[0m | \u001b[36mALLSampler_Sentence\u001b[0m:\u001b[36msimulate_rounds\u001b[0m:\u001b[36m99\u001b[0m - \u001b[1msimulate round 1.\u001b[0m\n",
      "\u001b[32m2024-07-16 04:23:09.836\u001b[0m | \u001b[1mINFO    \u001b[0m | \u001b[36mALLSampler_Sentence\u001b[0m:\u001b[36mkeep_sample\u001b[0m:\u001b[36m89\u001b[0m - \u001b[1mcurrent sampled sentences: 400, remaining sentences: 51398\u001b[0m\n",
      "\u001b[32m2024-07-16 04:31:15.293\u001b[0m | \u001b[1mINFO    \u001b[0m | \u001b[36mALLSampler_Sentence\u001b[0m:\u001b[36msimulate_rounds\u001b[0m:\u001b[36m99\u001b[0m - \u001b[1msimulate round 2.\u001b[0m\n",
      "\u001b[32m2024-07-16 04:31:23.479\u001b[0m | \u001b[1mINFO    \u001b[0m | \u001b[36mALLSampler_Sentence\u001b[0m:\u001b[36mkeep_sample\u001b[0m:\u001b[36m89\u001b[0m - \u001b[1mcurrent sampled sentences: 600, remaining sentences: 51198\u001b[0m\n",
      "\u001b[32m2024-07-16 04:39:32.218\u001b[0m | \u001b[1mINFO    \u001b[0m | \u001b[36mALLSampler_Sentence\u001b[0m:\u001b[36msimulate_rounds\u001b[0m:\u001b[36m99\u001b[0m - \u001b[1msimulate round 3.\u001b[0m\n",
      "\u001b[32m2024-07-16 04:39:42.268\u001b[0m | \u001b[1mINFO    \u001b[0m | \u001b[36mALLSampler_Sentence\u001b[0m:\u001b[36mkeep_sample\u001b[0m:\u001b[36m89\u001b[0m - \u001b[1mcurrent sampled sentences: 800, remaining sentences: 50998\u001b[0m\n",
      "\u001b[32m2024-07-16 04:47:53.448\u001b[0m | \u001b[1mINFO    \u001b[0m | \u001b[36mALLSampler_Sentence\u001b[0m:\u001b[36msimulate_rounds\u001b[0m:\u001b[36m99\u001b[0m - \u001b[1msimulate round 4.\u001b[0m\n",
      "\u001b[32m2024-07-16 04:48:04.984\u001b[0m | \u001b[1mINFO    \u001b[0m | \u001b[36mALLSampler_Sentence\u001b[0m:\u001b[36mkeep_sample\u001b[0m:\u001b[36m89\u001b[0m - \u001b[1mcurrent sampled sentences: 1000, remaining sentences: 50798\u001b[0m\n",
      "\u001b[32m2024-07-16 04:56:13.744\u001b[0m | \u001b[1mINFO    \u001b[0m | \u001b[36mALLSampler_Sentence\u001b[0m:\u001b[36msimulate_rounds\u001b[0m:\u001b[36m99\u001b[0m - \u001b[1msimulate round 5.\u001b[0m\n",
      "\u001b[32m2024-07-16 04:56:26.658\u001b[0m | \u001b[1mINFO    \u001b[0m | \u001b[36mALLSampler_Sentence\u001b[0m:\u001b[36mkeep_sample\u001b[0m:\u001b[36m89\u001b[0m - \u001b[1mcurrent sampled sentences: 1200, remaining sentences: 50598\u001b[0m\n",
      "\u001b[32m2024-07-16 05:04:40.983\u001b[0m | \u001b[1mINFO    \u001b[0m | \u001b[36mALLSampler_Sentence\u001b[0m:\u001b[36msimulate_rounds\u001b[0m:\u001b[36m99\u001b[0m - \u001b[1msimulate round 6.\u001b[0m\n",
      "\u001b[32m2024-07-16 05:04:55.597\u001b[0m | \u001b[1mINFO    \u001b[0m | \u001b[36mALLSampler_Sentence\u001b[0m:\u001b[36mkeep_sample\u001b[0m:\u001b[36m89\u001b[0m - \u001b[1mcurrent sampled sentences: 1400, remaining sentences: 50398\u001b[0m\n",
      "\u001b[32m2024-07-16 05:13:14.598\u001b[0m | \u001b[1mINFO    \u001b[0m | \u001b[36mALLSampler_Sentence\u001b[0m:\u001b[36msimulate_rounds\u001b[0m:\u001b[36m99\u001b[0m - \u001b[1msimulate round 7.\u001b[0m\n",
      "\u001b[32m2024-07-16 05:13:32.858\u001b[0m | \u001b[1mINFO    \u001b[0m | \u001b[36mALLSampler_Sentence\u001b[0m:\u001b[36mkeep_sample\u001b[0m:\u001b[36m89\u001b[0m - \u001b[1mcurrent sampled sentences: 1600, remaining sentences: 50198\u001b[0m\n",
      "\u001b[32m2024-07-16 05:21:52.600\u001b[0m | \u001b[1mINFO    \u001b[0m | \u001b[36mALLSampler_Sentence\u001b[0m:\u001b[36msimulate_rounds\u001b[0m:\u001b[36m99\u001b[0m - \u001b[1msimulate round 8.\u001b[0m\n",
      "\u001b[32m2024-07-16 05:22:12.860\u001b[0m | \u001b[1mINFO    \u001b[0m | \u001b[36mALLSampler_Sentence\u001b[0m:\u001b[36mkeep_sample\u001b[0m:\u001b[36m89\u001b[0m - \u001b[1mcurrent sampled sentences: 1800, remaining sentences: 49998\u001b[0m\n",
      "\u001b[32m2024-07-16 05:30:36.494\u001b[0m | \u001b[1mINFO    \u001b[0m | \u001b[36mALLSampler_Sentence\u001b[0m:\u001b[36msimulate_rounds\u001b[0m:\u001b[36m99\u001b[0m - \u001b[1msimulate round 9.\u001b[0m\n",
      "\u001b[32m2024-07-16 05:30:57.752\u001b[0m | \u001b[1mINFO    \u001b[0m | \u001b[36mALLSampler_Sentence\u001b[0m:\u001b[36mkeep_sample\u001b[0m:\u001b[36m89\u001b[0m - \u001b[1mcurrent sampled sentences: 2000, remaining sentences: 49798\u001b[0m\n"
     ]
    }
   ],
   "source": [
    "all_scores=[]\n",
    "pickle_embedding_file= r'..\\data\\n2c2\\embedding_df_uniqueSentID.joblib'# r'..\\data\\n2c2\\embedding_df.joblib'\n",
    "faiss_index_path= r'..\\data\\n2c2\\faiss_index_st768'\n",
    "embedding_df=joblib.load(pickle_embedding_file)\n",
    "for si, seed  in enumerate(seeds):\n",
    "    logger.info(f'start run {si}.')\n",
    "    pickle_embedding_file= r'..\\data\\n2c2\\embedding_df_uniqueSentID.joblib' #r'..\\data\\n2c2\\embedding_df.joblib'\n",
    "    crf_model=CRFModel(anno_types=annos, topNUncertainToken=2)\n",
    "    vb_simulator=VBSamplingSimulator(total_sents=train_df, \n",
    "                                 total_round=10, \n",
    "                                 modelWrapper=crf_model, \n",
    "                                 eval_sents=test_df, \n",
    "                                 init_seed=seed,\n",
    "                                 sample_all_on_last_round=False, \n",
    "                                 faiss_index_path=faiss_index_path, \n",
    "                                 embedding_df=embedding_df,\n",
    "                                 sdf_labels=sdf_labels_sid[['sentence','concept', 'y', 'doc_name','sentence_id']],\n",
    "                                 min_dist_diff=True\n",
    "                                )\n",
    "    vb_simulator.num_per_round=200\n",
    "    scores=vb_simulator.simulate_rounds(boostrap_times=500)\n",
    "    all_scores.append(scores) "
   ]
  },
  {
   "cell_type": "code",
   "execution_count": 21,
   "id": "b79d7f1f-4889-43f7-84c0-936aed62bc8f",
   "metadata": {
    "scrolled": true
   },
   "outputs": [
    {
     "data": {
      "text/plain": [
       "['../data/n2c2/scores_sentence_sampling/ner_VBmin_scores_sentenceSampling_500bootstrap.joblib']"
      ]
     },
     "execution_count": 21,
     "metadata": {},
     "output_type": "execute_result"
    }
   ],
   "source": [
    "joblib.dump(all_scores, r'../data/n2c2/scores_sentence_sampling/ner_VBmin_scores_sentenceSampling_500bootstrap.joblib')\n"
   ]
  },
  {
   "cell_type": "code",
   "execution_count": null,
   "id": "e5446792-4fb9-44e3-a92e-81415341db23",
   "metadata": {},
   "outputs": [],
   "source": []
  }
 ],
 "metadata": {
  "kernelspec": {
   "display_name": "Python 3 (ipykernel)",
   "language": "python",
   "name": "python3"
  },
  "language_info": {
   "codemirror_mode": {
    "name": "ipython",
    "version": 3
   },
   "file_extension": ".py",
   "mimetype": "text/x-python",
   "name": "python",
   "nbconvert_exporter": "python",
   "pygments_lexer": "ipython3",
   "version": "3.8.18"
  }
 },
 "nbformat": 4,
 "nbformat_minor": 5
}
