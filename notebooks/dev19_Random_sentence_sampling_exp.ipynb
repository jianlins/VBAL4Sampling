{
 "cells": [
  {
   "cell_type": "code",
   "execution_count": 1,
   "id": "1a65a67f-590c-433e-8c78-d525b673f7bb",
   "metadata": {},
   "outputs": [],
   "source": [
    "import sklearn_crfsuite\n",
    "from sklearn_crfsuite.metrics import flat_f1_score\n",
    "from sklearn_crfsuite import CRF\n",
    "from sklearn.model_selection import train_test_split\n",
    "import pandas as pd\n",
    "import numpy as np\n",
    "from spacy.lang.en import English\n",
    "from spacy import displacy\n",
    "from pathlib import Path\n",
    "import joblib\n",
    "from spacy.tokens import Doc\n",
    "from typing import List\n",
    "import random\n",
    "from statistics import mean, stdev\n",
    "from loguru import logger\n",
    "import sys\n",
    "import spacy\n",
    "from medspacy_io.reader.brat_reader import BratDocReader, BratDirReader\n",
    "import medspacy"
   ]
  },
  {
   "cell_type": "markdown",
   "id": "7dd92bea-d77d-4e3a-8172-1076bc8e7eb3",
   "metadata": {},
   "source": [
    "## Initial Brat Reader"
   ]
  },
  {
   "cell_type": "code",
   "execution_count": 2,
   "id": "fcd34a8d-f685-41c2-aa74-8cf246911a1c",
   "metadata": {},
   "outputs": [
    {
     "data": {
      "text/plain": [
       "(True, True)"
      ]
     },
     "execution_count": 2,
     "metadata": {},
     "output_type": "execute_result"
    }
   ],
   "source": [
    "cleaned_train_dir=r'..\\data\\n2c2\\cleaned_training'\n",
    "cleaned_test_dir=r'..\\data\\n2c2\\cleaned_test'\n",
    "Path(cleaned_train_dir).exists(), Path(cleaned_test_dir).exists()"
   ]
  },
  {
   "cell_type": "code",
   "execution_count": 3,
   "id": "9e53fe5f-8269-4c04-9730-a87f72fb8ad5",
   "metadata": {},
   "outputs": [],
   "source": [
    "nlp=spacy.load('en_core_web_sm', disable=['ner'])"
   ]
  },
  {
   "cell_type": "code",
   "execution_count": 4,
   "id": "5571ad33-cd90-4dc7-9e23-369ff5a19cac",
   "metadata": {},
   "outputs": [],
   "source": [
    "dir_reader = BratDirReader(nlp=nlp, schema_file=str(Path(cleaned_train_dir, 'annotation.conf')), support_overlap=True)"
   ]
  },
  {
   "cell_type": "markdown",
   "id": "b3e9534c-ae6b-43d8-af46-445a60b1cf64",
   "metadata": {},
   "source": [
    "## read ehost annotation/load pickle"
   ]
  },
  {
   "cell_type": "code",
   "execution_count": 5,
   "id": "deed2967-1126-44c7-a7e9-d33330dbe7c2",
   "metadata": {},
   "outputs": [],
   "source": [
    "pickle_file= r'..\\data\\n2c2\\spacy_docs.joblib'"
   ]
  },
  {
   "cell_type": "code",
   "execution_count": 6,
   "id": "f2628e94-e81a-479e-a660-bb935a05e547",
   "metadata": {},
   "outputs": [
    {
     "name": "stdout",
     "output_type": "stream",
     "text": [
      "..\\data\\n2c2\\spacy_docs.joblib already exists, load them directly\n"
     ]
    }
   ],
   "source": [
    "if not Path(pickle_file).exists():\n",
    "    train_docs=dir_reader.read(txt_dir=cleaned_train_dir)\n",
    "    test_docs=dir_reader.read(txt_dir=cleaned_test_dir)\n",
    "    print(len(train_docs), len(test_docs))\n",
    "    joblib.dump((train_docs, test_docs), pickle_file)\n",
    "else:\n",
    "    print(f'{pickle_file} already exists, load them directly')\n",
    "    # before load from pickle, initiate EhostDirReader or EhostDocReader first, because some Doc extension used to store meta data will not be automatically recreated by loading.\n",
    "    train_docs, test_docs=joblib.load(pickle_file)"
   ]
  },
  {
   "cell_type": "code",
   "execution_count": 7,
   "id": "da8e6611-467b-4a95-8b71-8be891d69fc4",
   "metadata": {},
   "outputs": [],
   "source": [
    "rounds =10\n",
    "seed= 14"
   ]
  },
  {
   "cell_type": "code",
   "execution_count": 8,
   "id": "a97a2294-658f-4258-a8de-01d59450c130",
   "metadata": {},
   "outputs": [
    {
     "data": {
      "text/plain": [
       "(303, 202)"
      ]
     },
     "execution_count": 8,
     "metadata": {},
     "output_type": "execute_result"
    }
   ],
   "source": [
    "len(train_docs), len(test_docs)"
   ]
  },
  {
   "cell_type": "markdown",
   "id": "a3bba872-ac8f-4f58-822d-2a5dcdea5a04",
   "metadata": {},
   "source": [
    "## Define CRF Wrapper"
   ]
  },
  {
   "cell_type": "code",
   "execution_count": 9,
   "id": "d7cd6a4b-1982-4954-969a-690575d58361",
   "metadata": {},
   "outputs": [],
   "source": [
    "from CRFWrapper_Sentence import spans_to_bio, convert_docs, word2features, sent2features,compute_metrics_and_averages,  CRFModel\n"
   ]
  },
  {
   "cell_type": "code",
   "execution_count": 10,
   "id": "90cc65e9-b3ec-4a86-a99c-917e055067e2",
   "metadata": {},
   "outputs": [
    {
     "name": "stdout",
     "output_type": "stream",
     "text": [
      "{'Form', 'ADE', 'Route', 'Frequency', 'Drug', 'Strength', 'Reason', 'Duration', 'Dosage'}\n"
     ]
    }
   ],
   "source": [
    "## Get all annotation types: \n",
    "annos=set()\n",
    "for d in train_docs:\n",
    "    for anno in d.spans.keys():\n",
    "        annos.add(anno)\n",
    "print(annos)"
   ]
  },
  {
   "cell_type": "code",
   "execution_count": 11,
   "id": "ada19947-c307-4c5e-8419-52f315fdfcb9",
   "metadata": {},
   "outputs": [],
   "source": [
    "crf_model=CRFModel(anno_types=annos)"
   ]
  },
  {
   "cell_type": "markdown",
   "id": "2826deac-5978-4d2a-b1c1-de21bf41269d",
   "metadata": {},
   "source": [
    "## Convert training and testing docs into sentence level dataframe"
   ]
  },
  {
   "cell_type": "code",
   "execution_count": 12,
   "id": "9b02d853-f97d-45f2-ab05-80b787da31a8",
   "metadata": {},
   "outputs": [],
   "source": [
    "_, train_df=convert_docs(train_docs, anno_types=annos)\n",
    "_, test_df=convert_docs(test_docs, anno_types=annos)"
   ]
  },
  {
   "cell_type": "code",
   "execution_count": null,
   "id": "21a210ff-bdb9-4f8e-9f9a-fe8444041767",
   "metadata": {},
   "outputs": [],
   "source": []
  },
  {
   "cell_type": "markdown",
   "id": "3ae5f0d9-d5fa-404a-a5d7-ee69e59e8297",
   "metadata": {},
   "source": [
    "# Random Sampling Simulator"
   ]
  },
  {
   "cell_type": "code",
   "execution_count": 13,
   "id": "a54cf766-2219-46cb-a906-e5e570e62077",
   "metadata": {},
   "outputs": [],
   "source": [
    "from ALLSampler_Sentence import SamplingSimulator, ModelSamplingSimulator, RandomSamplingSimulator"
   ]
  },
  {
   "cell_type": "code",
   "execution_count": 14,
   "id": "a07d0075-074f-48d4-a930-d2d07c99c29f",
   "metadata": {},
   "outputs": [
    {
     "name": "stderr",
     "output_type": "stream",
     "text": [
      "\u001b[32m2024-07-15 22:34:00.238\u001b[0m | \u001b[34m\u001b[1mDEBUG   \u001b[0m | \u001b[36mALLSampler_Sentence\u001b[0m:\u001b[36m__init__\u001b[0m:\u001b[36m73\u001b[0m - \u001b[34m\u001b[1mnum per found unique sent: 5179\u001b[0m\n"
     ]
    }
   ],
   "source": [
    "r_simulator=RandomSamplingSimulator(total_sents=train_df, \n",
    "                                    total_round=10, \n",
    "                                    modelWrapper=crf_model, \n",
    "                                    eval_sents=test_df, \n",
    "                                    init_seed=seed)"
   ]
  },
  {
   "cell_type": "markdown",
   "id": "b1c35b3b-fbd5-4e0b-a42f-0f22a51d06e4",
   "metadata": {},
   "source": [
    "## Bootstrap 3 different initials runs"
   ]
  },
  {
   "cell_type": "code",
   "execution_count": 15,
   "id": "45ad49fc-25a3-4cb3-99d4-adf90fc869dc",
   "metadata": {},
   "outputs": [
    {
     "data": {
      "text/plain": [
       "1"
      ]
     },
     "execution_count": 15,
     "metadata": {},
     "output_type": "execute_result"
    }
   ],
   "source": [
    "boostrap_runs=3\n",
    "total_round=10\n",
    "logger.remove()\n",
    "logger.add(sys.stderr, level='INFO')"
   ]
  },
  {
   "cell_type": "code",
   "execution_count": 16,
   "id": "1ece6cfc-2bbe-464c-b52b-6f639819aac0",
   "metadata": {},
   "outputs": [
    {
     "data": {
      "text/plain": [
       "[1792286, 8843471, 4142887]"
      ]
     },
     "execution_count": 16,
     "metadata": {},
     "output_type": "execute_result"
    }
   ],
   "source": [
    "random.seed(14)\n",
    "seeds=[random.randint(1,10000000) for  _ in range(boostrap_runs)]\n",
    "seeds"
   ]
  },
  {
   "cell_type": "code",
   "execution_count": 17,
   "id": "246e8117-063b-4ff9-b4ab-92644c476286",
   "metadata": {},
   "outputs": [
    {
     "name": "stderr",
     "output_type": "stream",
     "text": [
      "\u001b[32m2024-07-15 22:34:00.316\u001b[0m | \u001b[1mINFO    \u001b[0m | \u001b[36m__main__\u001b[0m:\u001b[36m<module>\u001b[0m:\u001b[36m3\u001b[0m - \u001b[1mstart run 0.\u001b[0m\n",
      "\u001b[32m2024-07-15 22:34:00.441\u001b[0m | \u001b[1mINFO    \u001b[0m | \u001b[36mALLSampler_Sentence\u001b[0m:\u001b[36msimulate_rounds\u001b[0m:\u001b[36m99\u001b[0m - \u001b[1msimulate round 0.\u001b[0m\n",
      "\u001b[32m2024-07-15 22:34:00.838\u001b[0m | \u001b[1mINFO    \u001b[0m | \u001b[36mALLSampler_Sentence\u001b[0m:\u001b[36mkeep_sample\u001b[0m:\u001b[36m89\u001b[0m - \u001b[1mcurrent sampled sentences: 200, remaining sentences: 51598\u001b[0m\n",
      "\u001b[32m2024-07-15 22:43:41.781\u001b[0m | \u001b[1mINFO    \u001b[0m | \u001b[36mALLSampler_Sentence\u001b[0m:\u001b[36msimulate_rounds\u001b[0m:\u001b[36m99\u001b[0m - \u001b[1msimulate round 1.\u001b[0m\n",
      "\u001b[32m2024-07-15 22:43:42.182\u001b[0m | \u001b[1mINFO    \u001b[0m | \u001b[36mALLSampler_Sentence\u001b[0m:\u001b[36mkeep_sample\u001b[0m:\u001b[36m89\u001b[0m - \u001b[1mcurrent sampled sentences: 400, remaining sentences: 51398\u001b[0m\n",
      "\u001b[32m2024-07-15 22:52:52.713\u001b[0m | \u001b[1mINFO    \u001b[0m | \u001b[36mALLSampler_Sentence\u001b[0m:\u001b[36msimulate_rounds\u001b[0m:\u001b[36m99\u001b[0m - \u001b[1msimulate round 2.\u001b[0m\n",
      "\u001b[32m2024-07-15 22:52:53.127\u001b[0m | \u001b[1mINFO    \u001b[0m | \u001b[36mALLSampler_Sentence\u001b[0m:\u001b[36mkeep_sample\u001b[0m:\u001b[36m89\u001b[0m - \u001b[1mcurrent sampled sentences: 600, remaining sentences: 51198\u001b[0m\n",
      "\u001b[32m2024-07-15 23:01:51.307\u001b[0m | \u001b[1mINFO    \u001b[0m | \u001b[36mALLSampler_Sentence\u001b[0m:\u001b[36msimulate_rounds\u001b[0m:\u001b[36m99\u001b[0m - \u001b[1msimulate round 3.\u001b[0m\n",
      "\u001b[32m2024-07-15 23:01:51.720\u001b[0m | \u001b[1mINFO    \u001b[0m | \u001b[36mALLSampler_Sentence\u001b[0m:\u001b[36mkeep_sample\u001b[0m:\u001b[36m89\u001b[0m - \u001b[1mcurrent sampled sentences: 800, remaining sentences: 50998\u001b[0m\n",
      "\u001b[32m2024-07-15 23:10:57.401\u001b[0m | \u001b[1mINFO    \u001b[0m | \u001b[36mALLSampler_Sentence\u001b[0m:\u001b[36msimulate_rounds\u001b[0m:\u001b[36m99\u001b[0m - \u001b[1msimulate round 4.\u001b[0m\n",
      "\u001b[32m2024-07-15 23:10:57.821\u001b[0m | \u001b[1mINFO    \u001b[0m | \u001b[36mALLSampler_Sentence\u001b[0m:\u001b[36mkeep_sample\u001b[0m:\u001b[36m89\u001b[0m - \u001b[1mcurrent sampled sentences: 1000, remaining sentences: 50798\u001b[0m\n",
      "\u001b[32m2024-07-15 23:20:03.313\u001b[0m | \u001b[1mINFO    \u001b[0m | \u001b[36mALLSampler_Sentence\u001b[0m:\u001b[36msimulate_rounds\u001b[0m:\u001b[36m99\u001b[0m - \u001b[1msimulate round 5.\u001b[0m\n",
      "\u001b[32m2024-07-15 23:20:03.709\u001b[0m | \u001b[1mINFO    \u001b[0m | \u001b[36mALLSampler_Sentence\u001b[0m:\u001b[36mkeep_sample\u001b[0m:\u001b[36m89\u001b[0m - \u001b[1mcurrent sampled sentences: 1200, remaining sentences: 50598\u001b[0m\n",
      "\u001b[32m2024-07-15 23:29:11.530\u001b[0m | \u001b[1mINFO    \u001b[0m | \u001b[36mALLSampler_Sentence\u001b[0m:\u001b[36msimulate_rounds\u001b[0m:\u001b[36m99\u001b[0m - \u001b[1msimulate round 6.\u001b[0m\n",
      "\u001b[32m2024-07-15 23:29:11.938\u001b[0m | \u001b[1mINFO    \u001b[0m | \u001b[36mALLSampler_Sentence\u001b[0m:\u001b[36mkeep_sample\u001b[0m:\u001b[36m89\u001b[0m - \u001b[1mcurrent sampled sentences: 1400, remaining sentences: 50398\u001b[0m\n",
      "\u001b[32m2024-07-15 23:38:29.595\u001b[0m | \u001b[1mINFO    \u001b[0m | \u001b[36mALLSampler_Sentence\u001b[0m:\u001b[36msimulate_rounds\u001b[0m:\u001b[36m99\u001b[0m - \u001b[1msimulate round 7.\u001b[0m\n",
      "\u001b[32m2024-07-15 23:38:29.986\u001b[0m | \u001b[1mINFO    \u001b[0m | \u001b[36mALLSampler_Sentence\u001b[0m:\u001b[36mkeep_sample\u001b[0m:\u001b[36m89\u001b[0m - \u001b[1mcurrent sampled sentences: 1600, remaining sentences: 50198\u001b[0m\n",
      "\u001b[32m2024-07-15 23:47:48.549\u001b[0m | \u001b[1mINFO    \u001b[0m | \u001b[36mALLSampler_Sentence\u001b[0m:\u001b[36msimulate_rounds\u001b[0m:\u001b[36m99\u001b[0m - \u001b[1msimulate round 8.\u001b[0m\n",
      "\u001b[32m2024-07-15 23:47:48.943\u001b[0m | \u001b[1mINFO    \u001b[0m | \u001b[36mALLSampler_Sentence\u001b[0m:\u001b[36mkeep_sample\u001b[0m:\u001b[36m89\u001b[0m - \u001b[1mcurrent sampled sentences: 1800, remaining sentences: 49998\u001b[0m\n",
      "\u001b[32m2024-07-15 23:57:04.391\u001b[0m | \u001b[1mINFO    \u001b[0m | \u001b[36mALLSampler_Sentence\u001b[0m:\u001b[36msimulate_rounds\u001b[0m:\u001b[36m99\u001b[0m - \u001b[1msimulate round 9.\u001b[0m\n",
      "\u001b[32m2024-07-15 23:57:04.783\u001b[0m | \u001b[1mINFO    \u001b[0m | \u001b[36mALLSampler_Sentence\u001b[0m:\u001b[36mkeep_sample\u001b[0m:\u001b[36m89\u001b[0m - \u001b[1mcurrent sampled sentences: 2000, remaining sentences: 49798\u001b[0m\n",
      "\u001b[32m2024-07-16 00:06:23.424\u001b[0m | \u001b[1mINFO    \u001b[0m | \u001b[36m__main__\u001b[0m:\u001b[36m<module>\u001b[0m:\u001b[36m3\u001b[0m - \u001b[1mstart run 1.\u001b[0m\n",
      "\u001b[32m2024-07-16 00:06:23.584\u001b[0m | \u001b[1mINFO    \u001b[0m | \u001b[36mALLSampler_Sentence\u001b[0m:\u001b[36msimulate_rounds\u001b[0m:\u001b[36m99\u001b[0m - \u001b[1msimulate round 0.\u001b[0m\n",
      "\u001b[32m2024-07-16 00:06:23.952\u001b[0m | \u001b[1mINFO    \u001b[0m | \u001b[36mALLSampler_Sentence\u001b[0m:\u001b[36mkeep_sample\u001b[0m:\u001b[36m89\u001b[0m - \u001b[1mcurrent sampled sentences: 200, remaining sentences: 51598\u001b[0m\n",
      "\u001b[32m2024-07-16 00:15:07.284\u001b[0m | \u001b[1mINFO    \u001b[0m | \u001b[36mALLSampler_Sentence\u001b[0m:\u001b[36msimulate_rounds\u001b[0m:\u001b[36m99\u001b[0m - \u001b[1msimulate round 1.\u001b[0m\n",
      "\u001b[32m2024-07-16 00:15:07.700\u001b[0m | \u001b[1mINFO    \u001b[0m | \u001b[36mALLSampler_Sentence\u001b[0m:\u001b[36mkeep_sample\u001b[0m:\u001b[36m89\u001b[0m - \u001b[1mcurrent sampled sentences: 400, remaining sentences: 51398\u001b[0m\n",
      "\u001b[32m2024-07-16 00:23:56.042\u001b[0m | \u001b[1mINFO    \u001b[0m | \u001b[36mALLSampler_Sentence\u001b[0m:\u001b[36msimulate_rounds\u001b[0m:\u001b[36m99\u001b[0m - \u001b[1msimulate round 2.\u001b[0m\n",
      "\u001b[32m2024-07-16 00:23:56.464\u001b[0m | \u001b[1mINFO    \u001b[0m | \u001b[36mALLSampler_Sentence\u001b[0m:\u001b[36mkeep_sample\u001b[0m:\u001b[36m89\u001b[0m - \u001b[1mcurrent sampled sentences: 600, remaining sentences: 51198\u001b[0m\n",
      "\u001b[32m2024-07-16 00:32:42.030\u001b[0m | \u001b[1mINFO    \u001b[0m | \u001b[36mALLSampler_Sentence\u001b[0m:\u001b[36msimulate_rounds\u001b[0m:\u001b[36m99\u001b[0m - \u001b[1msimulate round 3.\u001b[0m\n",
      "\u001b[32m2024-07-16 00:32:42.428\u001b[0m | \u001b[1mINFO    \u001b[0m | \u001b[36mALLSampler_Sentence\u001b[0m:\u001b[36mkeep_sample\u001b[0m:\u001b[36m89\u001b[0m - \u001b[1mcurrent sampled sentences: 800, remaining sentences: 50998\u001b[0m\n",
      "\u001b[32m2024-07-16 00:41:48.764\u001b[0m | \u001b[1mINFO    \u001b[0m | \u001b[36mALLSampler_Sentence\u001b[0m:\u001b[36msimulate_rounds\u001b[0m:\u001b[36m99\u001b[0m - \u001b[1msimulate round 4.\u001b[0m\n",
      "\u001b[32m2024-07-16 00:41:49.162\u001b[0m | \u001b[1mINFO    \u001b[0m | \u001b[36mALLSampler_Sentence\u001b[0m:\u001b[36mkeep_sample\u001b[0m:\u001b[36m89\u001b[0m - \u001b[1mcurrent sampled sentences: 1000, remaining sentences: 50798\u001b[0m\n",
      "\u001b[32m2024-07-16 00:50:58.034\u001b[0m | \u001b[1mINFO    \u001b[0m | \u001b[36mALLSampler_Sentence\u001b[0m:\u001b[36msimulate_rounds\u001b[0m:\u001b[36m99\u001b[0m - \u001b[1msimulate round 5.\u001b[0m\n",
      "\u001b[32m2024-07-16 00:50:58.429\u001b[0m | \u001b[1mINFO    \u001b[0m | \u001b[36mALLSampler_Sentence\u001b[0m:\u001b[36mkeep_sample\u001b[0m:\u001b[36m89\u001b[0m - \u001b[1mcurrent sampled sentences: 1200, remaining sentences: 50598\u001b[0m\n",
      "\u001b[32m2024-07-16 01:00:06.239\u001b[0m | \u001b[1mINFO    \u001b[0m | \u001b[36mALLSampler_Sentence\u001b[0m:\u001b[36msimulate_rounds\u001b[0m:\u001b[36m99\u001b[0m - \u001b[1msimulate round 6.\u001b[0m\n",
      "\u001b[32m2024-07-16 01:00:06.638\u001b[0m | \u001b[1mINFO    \u001b[0m | \u001b[36mALLSampler_Sentence\u001b[0m:\u001b[36mkeep_sample\u001b[0m:\u001b[36m89\u001b[0m - \u001b[1mcurrent sampled sentences: 1400, remaining sentences: 50398\u001b[0m\n",
      "\u001b[32m2024-07-16 01:09:19.739\u001b[0m | \u001b[1mINFO    \u001b[0m | \u001b[36mALLSampler_Sentence\u001b[0m:\u001b[36msimulate_rounds\u001b[0m:\u001b[36m99\u001b[0m - \u001b[1msimulate round 7.\u001b[0m\n",
      "\u001b[32m2024-07-16 01:09:20.151\u001b[0m | \u001b[1mINFO    \u001b[0m | \u001b[36mALLSampler_Sentence\u001b[0m:\u001b[36mkeep_sample\u001b[0m:\u001b[36m89\u001b[0m - \u001b[1mcurrent sampled sentences: 1600, remaining sentences: 50198\u001b[0m\n",
      "\u001b[32m2024-07-16 01:18:48.594\u001b[0m | \u001b[1mINFO    \u001b[0m | \u001b[36mALLSampler_Sentence\u001b[0m:\u001b[36msimulate_rounds\u001b[0m:\u001b[36m99\u001b[0m - \u001b[1msimulate round 8.\u001b[0m\n",
      "\u001b[32m2024-07-16 01:18:49.006\u001b[0m | \u001b[1mINFO    \u001b[0m | \u001b[36mALLSampler_Sentence\u001b[0m:\u001b[36mkeep_sample\u001b[0m:\u001b[36m89\u001b[0m - \u001b[1mcurrent sampled sentences: 1800, remaining sentences: 49998\u001b[0m\n",
      "\u001b[32m2024-07-16 01:28:21.632\u001b[0m | \u001b[1mINFO    \u001b[0m | \u001b[36mALLSampler_Sentence\u001b[0m:\u001b[36msimulate_rounds\u001b[0m:\u001b[36m99\u001b[0m - \u001b[1msimulate round 9.\u001b[0m\n",
      "\u001b[32m2024-07-16 01:28:22.041\u001b[0m | \u001b[1mINFO    \u001b[0m | \u001b[36mALLSampler_Sentence\u001b[0m:\u001b[36mkeep_sample\u001b[0m:\u001b[36m89\u001b[0m - \u001b[1mcurrent sampled sentences: 2000, remaining sentences: 49798\u001b[0m\n",
      "\u001b[32m2024-07-16 01:37:53.083\u001b[0m | \u001b[1mINFO    \u001b[0m | \u001b[36m__main__\u001b[0m:\u001b[36m<module>\u001b[0m:\u001b[36m3\u001b[0m - \u001b[1mstart run 2.\u001b[0m\n",
      "\u001b[32m2024-07-16 01:37:53.223\u001b[0m | \u001b[1mINFO    \u001b[0m | \u001b[36mALLSampler_Sentence\u001b[0m:\u001b[36msimulate_rounds\u001b[0m:\u001b[36m99\u001b[0m - \u001b[1msimulate round 0.\u001b[0m\n",
      "\u001b[32m2024-07-16 01:37:53.598\u001b[0m | \u001b[1mINFO    \u001b[0m | \u001b[36mALLSampler_Sentence\u001b[0m:\u001b[36mkeep_sample\u001b[0m:\u001b[36m89\u001b[0m - \u001b[1mcurrent sampled sentences: 200, remaining sentences: 51598\u001b[0m\n",
      "\u001b[32m2024-07-16 01:46:53.919\u001b[0m | \u001b[1mINFO    \u001b[0m | \u001b[36mALLSampler_Sentence\u001b[0m:\u001b[36msimulate_rounds\u001b[0m:\u001b[36m99\u001b[0m - \u001b[1msimulate round 1.\u001b[0m\n",
      "\u001b[32m2024-07-16 01:46:54.330\u001b[0m | \u001b[1mINFO    \u001b[0m | \u001b[36mALLSampler_Sentence\u001b[0m:\u001b[36mkeep_sample\u001b[0m:\u001b[36m89\u001b[0m - \u001b[1mcurrent sampled sentences: 400, remaining sentences: 51398\u001b[0m\n",
      "\u001b[32m2024-07-16 01:56:10.781\u001b[0m | \u001b[1mINFO    \u001b[0m | \u001b[36mALLSampler_Sentence\u001b[0m:\u001b[36msimulate_rounds\u001b[0m:\u001b[36m99\u001b[0m - \u001b[1msimulate round 2.\u001b[0m\n",
      "\u001b[32m2024-07-16 01:56:11.206\u001b[0m | \u001b[1mINFO    \u001b[0m | \u001b[36mALLSampler_Sentence\u001b[0m:\u001b[36mkeep_sample\u001b[0m:\u001b[36m89\u001b[0m - \u001b[1mcurrent sampled sentences: 600, remaining sentences: 51198\u001b[0m\n",
      "\u001b[32m2024-07-16 02:05:28.667\u001b[0m | \u001b[1mINFO    \u001b[0m | \u001b[36mALLSampler_Sentence\u001b[0m:\u001b[36msimulate_rounds\u001b[0m:\u001b[36m99\u001b[0m - \u001b[1msimulate round 3.\u001b[0m\n",
      "\u001b[32m2024-07-16 02:05:29.079\u001b[0m | \u001b[1mINFO    \u001b[0m | \u001b[36mALLSampler_Sentence\u001b[0m:\u001b[36mkeep_sample\u001b[0m:\u001b[36m89\u001b[0m - \u001b[1mcurrent sampled sentences: 800, remaining sentences: 50998\u001b[0m\n",
      "\u001b[32m2024-07-16 02:14:45.091\u001b[0m | \u001b[1mINFO    \u001b[0m | \u001b[36mALLSampler_Sentence\u001b[0m:\u001b[36msimulate_rounds\u001b[0m:\u001b[36m99\u001b[0m - \u001b[1msimulate round 4.\u001b[0m\n",
      "\u001b[32m2024-07-16 02:14:45.497\u001b[0m | \u001b[1mINFO    \u001b[0m | \u001b[36mALLSampler_Sentence\u001b[0m:\u001b[36mkeep_sample\u001b[0m:\u001b[36m89\u001b[0m - \u001b[1mcurrent sampled sentences: 1000, remaining sentences: 50798\u001b[0m\n",
      "\u001b[32m2024-07-16 02:24:00.649\u001b[0m | \u001b[1mINFO    \u001b[0m | \u001b[36mALLSampler_Sentence\u001b[0m:\u001b[36msimulate_rounds\u001b[0m:\u001b[36m99\u001b[0m - \u001b[1msimulate round 5.\u001b[0m\n",
      "\u001b[32m2024-07-16 02:24:01.081\u001b[0m | \u001b[1mINFO    \u001b[0m | \u001b[36mALLSampler_Sentence\u001b[0m:\u001b[36mkeep_sample\u001b[0m:\u001b[36m89\u001b[0m - \u001b[1mcurrent sampled sentences: 1200, remaining sentences: 50598\u001b[0m\n",
      "\u001b[32m2024-07-16 02:33:16.212\u001b[0m | \u001b[1mINFO    \u001b[0m | \u001b[36mALLSampler_Sentence\u001b[0m:\u001b[36msimulate_rounds\u001b[0m:\u001b[36m99\u001b[0m - \u001b[1msimulate round 6.\u001b[0m\n",
      "\u001b[32m2024-07-16 02:33:16.614\u001b[0m | \u001b[1mINFO    \u001b[0m | \u001b[36mALLSampler_Sentence\u001b[0m:\u001b[36mkeep_sample\u001b[0m:\u001b[36m89\u001b[0m - \u001b[1mcurrent sampled sentences: 1400, remaining sentences: 50398\u001b[0m\n",
      "\u001b[32m2024-07-16 02:42:35.467\u001b[0m | \u001b[1mINFO    \u001b[0m | \u001b[36mALLSampler_Sentence\u001b[0m:\u001b[36msimulate_rounds\u001b[0m:\u001b[36m99\u001b[0m - \u001b[1msimulate round 7.\u001b[0m\n",
      "\u001b[32m2024-07-16 02:42:35.889\u001b[0m | \u001b[1mINFO    \u001b[0m | \u001b[36mALLSampler_Sentence\u001b[0m:\u001b[36mkeep_sample\u001b[0m:\u001b[36m89\u001b[0m - \u001b[1mcurrent sampled sentences: 1600, remaining sentences: 50198\u001b[0m\n",
      "\u001b[32m2024-07-16 02:52:05.535\u001b[0m | \u001b[1mINFO    \u001b[0m | \u001b[36mALLSampler_Sentence\u001b[0m:\u001b[36msimulate_rounds\u001b[0m:\u001b[36m99\u001b[0m - \u001b[1msimulate round 8.\u001b[0m\n",
      "\u001b[32m2024-07-16 02:52:05.941\u001b[0m | \u001b[1mINFO    \u001b[0m | \u001b[36mALLSampler_Sentence\u001b[0m:\u001b[36mkeep_sample\u001b[0m:\u001b[36m89\u001b[0m - \u001b[1mcurrent sampled sentences: 1800, remaining sentences: 49998\u001b[0m\n",
      "\u001b[32m2024-07-16 03:01:37.690\u001b[0m | \u001b[1mINFO    \u001b[0m | \u001b[36mALLSampler_Sentence\u001b[0m:\u001b[36msimulate_rounds\u001b[0m:\u001b[36m99\u001b[0m - \u001b[1msimulate round 9.\u001b[0m\n",
      "\u001b[32m2024-07-16 03:01:38.101\u001b[0m | \u001b[1mINFO    \u001b[0m | \u001b[36mALLSampler_Sentence\u001b[0m:\u001b[36mkeep_sample\u001b[0m:\u001b[36m89\u001b[0m - \u001b[1mcurrent sampled sentences: 2000, remaining sentences: 49798\u001b[0m\n"
     ]
    }
   ],
   "source": [
    "all_scores=[]\n",
    "for si, seed  in enumerate(seeds):\n",
    "    logger.info(f'start run {si}.')\n",
    "    crf_model=CRFModel(anno_types=annos, topNUncertainToken=2)\n",
    "    r_simulator=RandomSamplingSimulator(total_sents=train_df, \n",
    "                                    total_round=10, \n",
    "                                    modelWrapper=crf_model, \n",
    "                                    eval_sents=test_df, \n",
    "                                    init_seed=seed,\n",
    "                                    sample_all_on_last_round=False)  \n",
    "    r_simulator.num_per_round=200\n",
    "    scores=r_simulator.simulate_rounds(boostrap_times=500)\n",
    "    all_scores.append(scores) "
   ]
  },
  {
   "cell_type": "code",
   "execution_count": 18,
   "id": "ca3d19f6-2e2a-4729-b22d-cfac1af41168",
   "metadata": {},
   "outputs": [
    {
     "data": {
      "text/plain": [
       "['../data/n2c2/scores_sentence_sampling/ner_random_scores_sentenceSampling_500bootstrap.joblib']"
      ]
     },
     "execution_count": 18,
     "metadata": {},
     "output_type": "execute_result"
    }
   ],
   "source": [
    "joblib.dump(all_scores, r'../data/n2c2/scores_sentence_sampling/ner_random_scores_sentenceSampling_500bootstrap.joblib')\n"
   ]
  },
  {
   "cell_type": "code",
   "execution_count": null,
   "id": "16de5581-26b3-44c2-90b6-8e9b4306de5e",
   "metadata": {},
   "outputs": [],
   "source": []
  }
 ],
 "metadata": {
  "kernelspec": {
   "display_name": "Python 3 (ipykernel)",
   "language": "python",
   "name": "python3"
  },
  "language_info": {
   "codemirror_mode": {
    "name": "ipython",
    "version": 3
   },
   "file_extension": ".py",
   "mimetype": "text/x-python",
   "name": "python",
   "nbconvert_exporter": "python",
   "pygments_lexer": "ipython3",
   "version": "3.8.18"
  }
 },
 "nbformat": 4,
 "nbformat_minor": 5
}
