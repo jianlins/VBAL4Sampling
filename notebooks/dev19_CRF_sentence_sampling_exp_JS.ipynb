{
 "cells": [
  {
   "cell_type": "code",
   "execution_count": 1,
   "id": "1d06fd2f-0f58-4378-93c8-7de06105d6ab",
   "metadata": {},
   "outputs": [],
   "source": [
    "import sklearn_crfsuite\n",
    "from sklearn_crfsuite.metrics import flat_f1_score\n",
    "from sklearn_crfsuite import CRF\n",
    "from sklearn.model_selection import train_test_split\n",
    "import pandas as pd\n",
    "import numpy as np\n",
    "from spacy.lang.en import English\n",
    "from spacy import displacy\n",
    "from pathlib import Path\n",
    "import joblib\n",
    "from spacy.tokens import Doc\n",
    "from typing import List\n",
    "import random\n",
    "from statistics import mean, stdev\n",
    "from loguru import logger\n",
    "import sys\n",
    "import spacy\n",
    "from medspacy_io.reader.brat_reader import BratDocReader, BratDirReader\n",
    "import medspacy\n",
    "from ALLSampler_Sentence import SamplingSimulator, ModelSamplingSimulator"
   ]
  },
  {
   "cell_type": "code",
   "execution_count": 2,
   "id": "dc64aece-1fc5-4e90-bf3b-c52872a730da",
   "metadata": {},
   "outputs": [
    {
     "data": {
      "text/plain": [
       "1"
      ]
     },
     "execution_count": 2,
     "metadata": {},
     "output_type": "execute_result"
    }
   ],
   "source": [
    "logger.remove()\n",
    "logger.add(sys.stderr, level='DEBUG')"
   ]
  },
  {
   "cell_type": "markdown",
   "id": "c4ebcc40-cce9-4850-994e-88e7676001aa",
   "metadata": {},
   "source": [
    "## Initiate Brat Reader"
   ]
  },
  {
   "cell_type": "code",
   "execution_count": 3,
   "id": "f46d89db-4564-4ed9-80b2-63f50917632b",
   "metadata": {},
   "outputs": [
    {
     "data": {
      "text/plain": [
       "(True, True)"
      ]
     },
     "execution_count": 3,
     "metadata": {},
     "output_type": "execute_result"
    }
   ],
   "source": [
    "cleaned_train_dir=r'..\\data\\n2c2\\cleaned_training'\n",
    "cleaned_test_dir=r'..\\data\\n2c2\\cleaned_test'\n",
    "Path(cleaned_train_dir).exists(), Path(cleaned_test_dir).exists()"
   ]
  },
  {
   "cell_type": "code",
   "execution_count": 4,
   "id": "f14a9e8e-beaa-46a7-9746-45a519024166",
   "metadata": {},
   "outputs": [],
   "source": [
    "nlp=spacy.load('en_core_web_sm', disable=['ner'])"
   ]
  },
  {
   "cell_type": "code",
   "execution_count": 5,
   "id": "a492fdb2-6746-47ab-848f-ee7205d70ecf",
   "metadata": {},
   "outputs": [],
   "source": [
    "dir_reader = BratDirReader(nlp=nlp, schema_file=str(Path(cleaned_train_dir, 'annotation.conf')), support_overlap=True)"
   ]
  },
  {
   "cell_type": "markdown",
   "id": "3bddc4d1-7c89-4aed-a23d-dbfb9b252052",
   "metadata": {},
   "source": [
    "## Read Brat annotations | load from pickles"
   ]
  },
  {
   "cell_type": "code",
   "execution_count": 6,
   "id": "a3977d19-a168-4227-b5aa-4149ab8fb257",
   "metadata": {},
   "outputs": [],
   "source": [
    "pickle_file= r'..\\data\\n2c2\\spacy_docs.joblib'"
   ]
  },
  {
   "cell_type": "code",
   "execution_count": 7,
   "id": "b9e1ec19-15bb-428a-b4a3-6f93d960fdd3",
   "metadata": {},
   "outputs": [
    {
     "name": "stdout",
     "output_type": "stream",
     "text": [
      "..\\data\\n2c2\\spacy_docs.joblib already exists, load them directly\n"
     ]
    }
   ],
   "source": [
    "if not Path(pickle_file).exists():\n",
    "    train_docs=dir_reader.read(txt_dir=cleaned_train_dir)\n",
    "    test_docs=dir_reader.read(txt_dir=cleaned_test_dir)\n",
    "    print(len(train_docs), len(test_docs))\n",
    "    joblib.dump((train_docs, test_docs), pickle_file)\n",
    "else:\n",
    "    print(f'{pickle_file} already exists, load them directly')\n",
    "    # before load from pickle, initiate EhostDirReader or EhostDocReader first, because some Doc extension used to store meta data will not be automatically recreated by loading.\n",
    "    train_docs, test_docs=joblib.load(pickle_file)"
   ]
  },
  {
   "cell_type": "markdown",
   "id": "fa734e16-0b79-4962-a847-70dff5dcd65b",
   "metadata": {},
   "source": [
    "## Define sampling function"
   ]
  },
  {
   "cell_type": "code",
   "execution_count": 8,
   "id": "bbbb3c59-0b8b-4d21-97e5-82fba88ceba9",
   "metadata": {},
   "outputs": [],
   "source": [
    "rounds =10\n",
    "seed= 14"
   ]
  },
  {
   "cell_type": "code",
   "execution_count": 9,
   "id": "fbf9df2b-5afa-4fdb-bd73-6177eb07230d",
   "metadata": {},
   "outputs": [
    {
     "data": {
      "text/plain": [
       "(303, 202)"
      ]
     },
     "execution_count": 9,
     "metadata": {},
     "output_type": "execute_result"
    }
   ],
   "source": [
    "len(train_docs), len(test_docs)"
   ]
  },
  {
   "cell_type": "markdown",
   "id": "16ca4361-326c-43b2-ad20-235bfeb45e4e",
   "metadata": {},
   "source": [
    "## CRF Wrapper"
   ]
  },
  {
   "cell_type": "code",
   "execution_count": 10,
   "id": "457f3a47-5f7c-4f7d-bde9-8f770976949b",
   "metadata": {},
   "outputs": [],
   "source": [
    "from CRFWrapper_Sentence import spans_to_bio, convert_docs, word2features, sent2features,compute_metrics_and_averages,  CRFModel\n"
   ]
  },
  {
   "cell_type": "code",
   "execution_count": 11,
   "id": "08885eea-4455-44d2-8aba-e490de84d92b",
   "metadata": {},
   "outputs": [
    {
     "name": "stdout",
     "output_type": "stream",
     "text": [
      "{'Dosage', 'Reason', 'Route', 'Drug', 'Strength', 'Frequency', 'Form', 'Duration', 'ADE'}\n"
     ]
    }
   ],
   "source": [
    "## Get all annotation types: \n",
    "annos=set()\n",
    "for d in train_docs:\n",
    "    for anno in d.spans.keys():\n",
    "        annos.add(anno)\n",
    "print(annos)"
   ]
  },
  {
   "cell_type": "code",
   "execution_count": 12,
   "id": "81569176-1e88-4933-8320-d1550c06ff09",
   "metadata": {
    "jupyter": {
     "source_hidden": true
    }
   },
   "outputs": [],
   "source": [
    "crf_model=CRFModel(anno_types=annos)"
   ]
  },
  {
   "cell_type": "markdown",
   "id": "a034d2e9-eb8f-4c9a-9ff6-f80cb3d38692",
   "metadata": {},
   "source": [
    "## Convert training and testing docs into sentence level dataframe"
   ]
  },
  {
   "cell_type": "code",
   "execution_count": 13,
   "id": "2191a750-1f00-4ca5-af86-8c3ea3474583",
   "metadata": {},
   "outputs": [],
   "source": [
    "_, train_df=convert_docs(train_docs, anno_types=annos)"
   ]
  },
  {
   "cell_type": "code",
   "execution_count": 14,
   "id": "9004db6c-bb4e-4031-80d9-984574d583ec",
   "metadata": {},
   "outputs": [],
   "source": [
    "_, test_df=convert_docs(test_docs, anno_types=annos)"
   ]
  },
  {
   "cell_type": "code",
   "id": "39bb6895-a0bd-4b23-9a39-cd99e157aad4",
   "metadata": {},
   "source": [
    "train_df"
   ],
   "outputs": [],
   "execution_count": null
  },
  {
   "cell_type": "code",
   "execution_count": 16,
   "id": "19eaa20e-c7c5-4ba0-a7f2-3c72177aa3be",
   "metadata": {},
   "outputs": [
    {
     "data": {
      "text/plain": [
       "array(['O', 'B-Drug', 'B-Route', 'B-Reason', 'I-Reason', 'B-Strength',\n",
       "       'I-Strength', 'B-Frequency', 'B-Duration', 'I-Duration', 'B-Form',\n",
       "       'B-Dosage', 'I-Dosage', 'B-ADE', 'I-Frequency', 'I-Drug', 'I-Form',\n",
       "       'I-Route', 'I-ADE'], dtype=object)"
      ]
     },
     "execution_count": 16,
     "metadata": {},
     "output_type": "execute_result"
    }
   ],
   "source": [
    "train_df.label.unique()"
   ]
  },
  {
   "cell_type": "markdown",
   "id": "ed143d7d-8b49-46a2-a2b0-f9036220fd8e",
   "metadata": {},
   "source": [
    "## Bootstrap 3 different initials runs"
   ]
  },
  {
   "cell_type": "code",
   "execution_count": 17,
   "id": "f0054da7-99ce-476b-abbc-b0ee52a1fbc3",
   "metadata": {},
   "outputs": [
    {
     "data": {
      "text/plain": [
       "2"
      ]
     },
     "execution_count": 17,
     "metadata": {},
     "output_type": "execute_result"
    }
   ],
   "source": [
    "boostrap_runs=3\n",
    "total_round=10\n",
    "logger.remove()\n",
    "logger.add(sys.stderr, level='INFO')"
   ]
  },
  {
   "cell_type": "code",
   "execution_count": 18,
   "id": "f27dcf48-8965-43c2-b034-dae968ced812",
   "metadata": {},
   "outputs": [
    {
     "data": {
      "text/plain": [
       "[1792286, 8843471, 4142887]"
      ]
     },
     "execution_count": 18,
     "metadata": {},
     "output_type": "execute_result"
    }
   ],
   "source": [
    "random.seed(14)\n",
    "seeds=[random.randint(1,10000000) for  _ in range(boostrap_runs)]\n",
    "seeds"
   ]
  },
  {
   "cell_type": "code",
   "execution_count": 19,
   "id": "f0b2c1d6-e6c9-407a-a272-f90003b54258",
   "metadata": {},
   "outputs": [
    {
     "name": "stderr",
     "output_type": "stream",
     "text": [
      "\u001B[32m2024-07-15 16:44:10.702\u001B[0m | \u001B[1mINFO    \u001B[0m | \u001B[36m__main__\u001B[0m:\u001B[36m<module>\u001B[0m:\u001B[36m3\u001B[0m - \u001B[1mstart run 0.\u001B[0m\n",
      "\u001B[32m2024-07-15 16:44:10.823\u001B[0m | \u001B[1mINFO    \u001B[0m | \u001B[36mALLSampler_Sentence\u001B[0m:\u001B[36msimulate_rounds\u001B[0m:\u001B[36m99\u001B[0m - \u001B[1msimulate round 0.\u001B[0m\n",
      "\u001B[32m2024-07-15 16:44:11.186\u001B[0m | \u001B[1mINFO    \u001B[0m | \u001B[36mALLSampler_Sentence\u001B[0m:\u001B[36mkeep_sample\u001B[0m:\u001B[36m89\u001B[0m - \u001B[1mcurrent sampled sentences: 200, remaining sentences: 51598\u001B[0m\n",
      "\u001B[32m2024-07-15 16:53:43.880\u001B[0m | \u001B[1mINFO    \u001B[0m | \u001B[36mALLSampler_Sentence\u001B[0m:\u001B[36msimulate_rounds\u001B[0m:\u001B[36m99\u001B[0m - \u001B[1msimulate round 1.\u001B[0m\n",
      "\u001B[32m2024-07-15 16:54:47.678\u001B[0m | \u001B[1mINFO    \u001B[0m | \u001B[36mALLSampler_Sentence\u001B[0m:\u001B[36mkeep_sample\u001B[0m:\u001B[36m89\u001B[0m - \u001B[1mcurrent sampled sentences: 400, remaining sentences: 51398\u001B[0m\n",
      "\u001B[32m2024-07-15 17:05:01.810\u001B[0m | \u001B[1mINFO    \u001B[0m | \u001B[36mALLSampler_Sentence\u001B[0m:\u001B[36msimulate_rounds\u001B[0m:\u001B[36m99\u001B[0m - \u001B[1msimulate round 2.\u001B[0m\n",
      "\u001B[32m2024-07-15 17:05:55.175\u001B[0m | \u001B[1mINFO    \u001B[0m | \u001B[36mALLSampler_Sentence\u001B[0m:\u001B[36mkeep_sample\u001B[0m:\u001B[36m89\u001B[0m - \u001B[1mcurrent sampled sentences: 600, remaining sentences: 51198\u001B[0m\n",
      "\u001B[32m2024-07-15 17:14:17.323\u001B[0m | \u001B[1mINFO    \u001B[0m | \u001B[36mALLSampler_Sentence\u001B[0m:\u001B[36msimulate_rounds\u001B[0m:\u001B[36m99\u001B[0m - \u001B[1msimulate round 3.\u001B[0m\n",
      "\u001B[32m2024-07-15 17:15:10.142\u001B[0m | \u001B[1mINFO    \u001B[0m | \u001B[36mALLSampler_Sentence\u001B[0m:\u001B[36mkeep_sample\u001B[0m:\u001B[36m89\u001B[0m - \u001B[1mcurrent sampled sentences: 800, remaining sentences: 50998\u001B[0m\n",
      "\u001B[32m2024-07-15 17:23:32.971\u001B[0m | \u001B[1mINFO    \u001B[0m | \u001B[36mALLSampler_Sentence\u001B[0m:\u001B[36msimulate_rounds\u001B[0m:\u001B[36m99\u001B[0m - \u001B[1msimulate round 4.\u001B[0m\n",
      "\u001B[32m2024-07-15 17:24:25.240\u001B[0m | \u001B[1mINFO    \u001B[0m | \u001B[36mALLSampler_Sentence\u001B[0m:\u001B[36mkeep_sample\u001B[0m:\u001B[36m89\u001B[0m - \u001B[1mcurrent sampled sentences: 1000, remaining sentences: 50798\u001B[0m\n",
      "\u001B[32m2024-07-15 17:33:01.311\u001B[0m | \u001B[1mINFO    \u001B[0m | \u001B[36mALLSampler_Sentence\u001B[0m:\u001B[36msimulate_rounds\u001B[0m:\u001B[36m99\u001B[0m - \u001B[1msimulate round 5.\u001B[0m\n",
      "\u001B[32m2024-07-15 17:33:53.791\u001B[0m | \u001B[1mINFO    \u001B[0m | \u001B[36mALLSampler_Sentence\u001B[0m:\u001B[36mkeep_sample\u001B[0m:\u001B[36m89\u001B[0m - \u001B[1mcurrent sampled sentences: 1200, remaining sentences: 50598\u001B[0m\n",
      "\u001B[32m2024-07-15 17:42:27.496\u001B[0m | \u001B[1mINFO    \u001B[0m | \u001B[36mALLSampler_Sentence\u001B[0m:\u001B[36msimulate_rounds\u001B[0m:\u001B[36m99\u001B[0m - \u001B[1msimulate round 6.\u001B[0m\n",
      "\u001B[32m2024-07-15 17:43:19.534\u001B[0m | \u001B[1mINFO    \u001B[0m | \u001B[36mALLSampler_Sentence\u001B[0m:\u001B[36mkeep_sample\u001B[0m:\u001B[36m89\u001B[0m - \u001B[1mcurrent sampled sentences: 1400, remaining sentences: 50398\u001B[0m\n",
      "\u001B[32m2024-07-15 17:51:59.298\u001B[0m | \u001B[1mINFO    \u001B[0m | \u001B[36mALLSampler_Sentence\u001B[0m:\u001B[36msimulate_rounds\u001B[0m:\u001B[36m99\u001B[0m - \u001B[1msimulate round 7.\u001B[0m\n",
      "\u001B[32m2024-07-15 17:52:51.534\u001B[0m | \u001B[1mINFO    \u001B[0m | \u001B[36mALLSampler_Sentence\u001B[0m:\u001B[36mkeep_sample\u001B[0m:\u001B[36m89\u001B[0m - \u001B[1mcurrent sampled sentences: 1600, remaining sentences: 50198\u001B[0m\n",
      "\u001B[32m2024-07-15 18:01:36.164\u001B[0m | \u001B[1mINFO    \u001B[0m | \u001B[36mALLSampler_Sentence\u001B[0m:\u001B[36msimulate_rounds\u001B[0m:\u001B[36m99\u001B[0m - \u001B[1msimulate round 8.\u001B[0m\n",
      "\u001B[32m2024-07-15 18:02:28.306\u001B[0m | \u001B[1mINFO    \u001B[0m | \u001B[36mALLSampler_Sentence\u001B[0m:\u001B[36mkeep_sample\u001B[0m:\u001B[36m89\u001B[0m - \u001B[1mcurrent sampled sentences: 1800, remaining sentences: 49998\u001B[0m\n",
      "\u001B[32m2024-07-15 18:11:22.704\u001B[0m | \u001B[1mINFO    \u001B[0m | \u001B[36mALLSampler_Sentence\u001B[0m:\u001B[36msimulate_rounds\u001B[0m:\u001B[36m99\u001B[0m - \u001B[1msimulate round 9.\u001B[0m\n",
      "\u001B[32m2024-07-15 18:12:13.755\u001B[0m | \u001B[1mINFO    \u001B[0m | \u001B[36mALLSampler_Sentence\u001B[0m:\u001B[36mkeep_sample\u001B[0m:\u001B[36m89\u001B[0m - \u001B[1mcurrent sampled sentences: 2000, remaining sentences: 49798\u001B[0m\n",
      "\u001B[32m2024-07-15 18:20:56.754\u001B[0m | \u001B[1mINFO    \u001B[0m | \u001B[36m__main__\u001B[0m:\u001B[36m<module>\u001B[0m:\u001B[36m3\u001B[0m - \u001B[1mstart run 1.\u001B[0m\n",
      "\u001B[32m2024-07-15 18:20:56.894\u001B[0m | \u001B[1mINFO    \u001B[0m | \u001B[36mALLSampler_Sentence\u001B[0m:\u001B[36msimulate_rounds\u001B[0m:\u001B[36m99\u001B[0m - \u001B[1msimulate round 0.\u001B[0m\n",
      "\u001B[32m2024-07-15 18:20:57.238\u001B[0m | \u001B[1mINFO    \u001B[0m | \u001B[36mALLSampler_Sentence\u001B[0m:\u001B[36mkeep_sample\u001B[0m:\u001B[36m89\u001B[0m - \u001B[1mcurrent sampled sentences: 200, remaining sentences: 51598\u001B[0m\n",
      "\u001B[32m2024-07-15 18:28:51.356\u001B[0m | \u001B[1mINFO    \u001B[0m | \u001B[36mALLSampler_Sentence\u001B[0m:\u001B[36msimulate_rounds\u001B[0m:\u001B[36m99\u001B[0m - \u001B[1msimulate round 1.\u001B[0m\n",
      "\u001B[32m2024-07-15 18:29:42.206\u001B[0m | \u001B[1mINFO    \u001B[0m | \u001B[36mALLSampler_Sentence\u001B[0m:\u001B[36mkeep_sample\u001B[0m:\u001B[36m89\u001B[0m - \u001B[1mcurrent sampled sentences: 400, remaining sentences: 51398\u001B[0m\n",
      "\u001B[32m2024-07-15 18:37:48.262\u001B[0m | \u001B[1mINFO    \u001B[0m | \u001B[36mALLSampler_Sentence\u001B[0m:\u001B[36msimulate_rounds\u001B[0m:\u001B[36m99\u001B[0m - \u001B[1msimulate round 2.\u001B[0m\n",
      "\u001B[32m2024-07-15 18:38:40.921\u001B[0m | \u001B[1mINFO    \u001B[0m | \u001B[36mALLSampler_Sentence\u001B[0m:\u001B[36mkeep_sample\u001B[0m:\u001B[36m89\u001B[0m - \u001B[1mcurrent sampled sentences: 600, remaining sentences: 51198\u001B[0m\n",
      "\u001B[32m2024-07-15 18:46:53.103\u001B[0m | \u001B[1mINFO    \u001B[0m | \u001B[36mALLSampler_Sentence\u001B[0m:\u001B[36msimulate_rounds\u001B[0m:\u001B[36m99\u001B[0m - \u001B[1msimulate round 3.\u001B[0m\n",
      "\u001B[32m2024-07-15 18:47:45.823\u001B[0m | \u001B[1mINFO    \u001B[0m | \u001B[36mALLSampler_Sentence\u001B[0m:\u001B[36mkeep_sample\u001B[0m:\u001B[36m89\u001B[0m - \u001B[1mcurrent sampled sentences: 800, remaining sentences: 50998\u001B[0m\n",
      "\u001B[32m2024-07-15 18:56:04.808\u001B[0m | \u001B[1mINFO    \u001B[0m | \u001B[36mALLSampler_Sentence\u001B[0m:\u001B[36msimulate_rounds\u001B[0m:\u001B[36m99\u001B[0m - \u001B[1msimulate round 4.\u001B[0m\n",
      "\u001B[32m2024-07-15 18:56:56.046\u001B[0m | \u001B[1mINFO    \u001B[0m | \u001B[36mALLSampler_Sentence\u001B[0m:\u001B[36mkeep_sample\u001B[0m:\u001B[36m89\u001B[0m - \u001B[1mcurrent sampled sentences: 1000, remaining sentences: 50798\u001B[0m\n",
      "\u001B[32m2024-07-15 19:05:17.414\u001B[0m | \u001B[1mINFO    \u001B[0m | \u001B[36mALLSampler_Sentence\u001B[0m:\u001B[36msimulate_rounds\u001B[0m:\u001B[36m99\u001B[0m - \u001B[1msimulate round 5.\u001B[0m\n",
      "\u001B[32m2024-07-15 19:06:09.336\u001B[0m | \u001B[1mINFO    \u001B[0m | \u001B[36mALLSampler_Sentence\u001B[0m:\u001B[36mkeep_sample\u001B[0m:\u001B[36m89\u001B[0m - \u001B[1mcurrent sampled sentences: 1200, remaining sentences: 50598\u001B[0m\n",
      "\u001B[32m2024-07-15 19:14:36.035\u001B[0m | \u001B[1mINFO    \u001B[0m | \u001B[36mALLSampler_Sentence\u001B[0m:\u001B[36msimulate_rounds\u001B[0m:\u001B[36m99\u001B[0m - \u001B[1msimulate round 6.\u001B[0m\n",
      "\u001B[32m2024-07-15 19:15:26.505\u001B[0m | \u001B[1mINFO    \u001B[0m | \u001B[36mALLSampler_Sentence\u001B[0m:\u001B[36mkeep_sample\u001B[0m:\u001B[36m89\u001B[0m - \u001B[1mcurrent sampled sentences: 1400, remaining sentences: 50398\u001B[0m\n",
      "\u001B[32m2024-07-15 19:23:52.972\u001B[0m | \u001B[1mINFO    \u001B[0m | \u001B[36mALLSampler_Sentence\u001B[0m:\u001B[36msimulate_rounds\u001B[0m:\u001B[36m99\u001B[0m - \u001B[1msimulate round 7.\u001B[0m\n",
      "\u001B[32m2024-07-15 19:24:43.997\u001B[0m | \u001B[1mINFO    \u001B[0m | \u001B[36mALLSampler_Sentence\u001B[0m:\u001B[36mkeep_sample\u001B[0m:\u001B[36m89\u001B[0m - \u001B[1mcurrent sampled sentences: 1600, remaining sentences: 50198\u001B[0m\n",
      "\u001B[32m2024-07-15 19:33:13.521\u001B[0m | \u001B[1mINFO    \u001B[0m | \u001B[36mALLSampler_Sentence\u001B[0m:\u001B[36msimulate_rounds\u001B[0m:\u001B[36m99\u001B[0m - \u001B[1msimulate round 8.\u001B[0m\n",
      "\u001B[32m2024-07-15 19:34:04.173\u001B[0m | \u001B[1mINFO    \u001B[0m | \u001B[36mALLSampler_Sentence\u001B[0m:\u001B[36mkeep_sample\u001B[0m:\u001B[36m89\u001B[0m - \u001B[1mcurrent sampled sentences: 1800, remaining sentences: 49998\u001B[0m\n",
      "\u001B[32m2024-07-15 19:42:43.230\u001B[0m | \u001B[1mINFO    \u001B[0m | \u001B[36mALLSampler_Sentence\u001B[0m:\u001B[36msimulate_rounds\u001B[0m:\u001B[36m99\u001B[0m - \u001B[1msimulate round 9.\u001B[0m\n",
      "\u001B[32m2024-07-15 19:43:33.701\u001B[0m | \u001B[1mINFO    \u001B[0m | \u001B[36mALLSampler_Sentence\u001B[0m:\u001B[36mkeep_sample\u001B[0m:\u001B[36m89\u001B[0m - \u001B[1mcurrent sampled sentences: 2000, remaining sentences: 49798\u001B[0m\n",
      "\u001B[32m2024-07-15 19:52:17.510\u001B[0m | \u001B[1mINFO    \u001B[0m | \u001B[36m__main__\u001B[0m:\u001B[36m<module>\u001B[0m:\u001B[36m3\u001B[0m - \u001B[1mstart run 2.\u001B[0m\n",
      "\u001B[32m2024-07-15 19:52:17.635\u001B[0m | \u001B[1mINFO    \u001B[0m | \u001B[36mALLSampler_Sentence\u001B[0m:\u001B[36msimulate_rounds\u001B[0m:\u001B[36m99\u001B[0m - \u001B[1msimulate round 0.\u001B[0m\n",
      "\u001B[32m2024-07-15 19:52:17.989\u001B[0m | \u001B[1mINFO    \u001B[0m | \u001B[36mALLSampler_Sentence\u001B[0m:\u001B[36mkeep_sample\u001B[0m:\u001B[36m89\u001B[0m - \u001B[1mcurrent sampled sentences: 200, remaining sentences: 51598\u001B[0m\n",
      "\u001B[32m2024-07-15 20:00:13.957\u001B[0m | \u001B[1mINFO    \u001B[0m | \u001B[36mALLSampler_Sentence\u001B[0m:\u001B[36msimulate_rounds\u001B[0m:\u001B[36m99\u001B[0m - \u001B[1msimulate round 1.\u001B[0m\n",
      "\u001B[32m2024-07-15 20:01:04.019\u001B[0m | \u001B[1mINFO    \u001B[0m | \u001B[36mALLSampler_Sentence\u001B[0m:\u001B[36mkeep_sample\u001B[0m:\u001B[36m89\u001B[0m - \u001B[1mcurrent sampled sentences: 400, remaining sentences: 51398\u001B[0m\n",
      "\u001B[32m2024-07-15 20:09:35.677\u001B[0m | \u001B[1mINFO    \u001B[0m | \u001B[36mALLSampler_Sentence\u001B[0m:\u001B[36msimulate_rounds\u001B[0m:\u001B[36m99\u001B[0m - \u001B[1msimulate round 2.\u001B[0m\n",
      "\u001B[32m2024-07-15 20:10:29.271\u001B[0m | \u001B[1mINFO    \u001B[0m | \u001B[36mALLSampler_Sentence\u001B[0m:\u001B[36mkeep_sample\u001B[0m:\u001B[36m89\u001B[0m - \u001B[1mcurrent sampled sentences: 600, remaining sentences: 51198\u001B[0m\n",
      "\u001B[32m2024-07-15 20:18:45.153\u001B[0m | \u001B[1mINFO    \u001B[0m | \u001B[36mALLSampler_Sentence\u001B[0m:\u001B[36msimulate_rounds\u001B[0m:\u001B[36m99\u001B[0m - \u001B[1msimulate round 3.\u001B[0m\n",
      "\u001B[32m2024-07-15 20:19:38.354\u001B[0m | \u001B[1mINFO    \u001B[0m | \u001B[36mALLSampler_Sentence\u001B[0m:\u001B[36mkeep_sample\u001B[0m:\u001B[36m89\u001B[0m - \u001B[1mcurrent sampled sentences: 800, remaining sentences: 50998\u001B[0m\n",
      "\u001B[32m2024-07-15 20:28:00.205\u001B[0m | \u001B[1mINFO    \u001B[0m | \u001B[36mALLSampler_Sentence\u001B[0m:\u001B[36msimulate_rounds\u001B[0m:\u001B[36m99\u001B[0m - \u001B[1msimulate round 4.\u001B[0m\n",
      "\u001B[32m2024-07-15 20:28:52.074\u001B[0m | \u001B[1mINFO    \u001B[0m | \u001B[36mALLSampler_Sentence\u001B[0m:\u001B[36mkeep_sample\u001B[0m:\u001B[36m89\u001B[0m - \u001B[1mcurrent sampled sentences: 1000, remaining sentences: 50798\u001B[0m\n",
      "\u001B[32m2024-07-15 20:37:17.478\u001B[0m | \u001B[1mINFO    \u001B[0m | \u001B[36mALLSampler_Sentence\u001B[0m:\u001B[36msimulate_rounds\u001B[0m:\u001B[36m99\u001B[0m - \u001B[1msimulate round 5.\u001B[0m\n",
      "\u001B[32m2024-07-15 20:38:09.642\u001B[0m | \u001B[1mINFO    \u001B[0m | \u001B[36mALLSampler_Sentence\u001B[0m:\u001B[36mkeep_sample\u001B[0m:\u001B[36m89\u001B[0m - \u001B[1mcurrent sampled sentences: 1200, remaining sentences: 50598\u001B[0m\n",
      "\u001B[32m2024-07-15 20:46:42.458\u001B[0m | \u001B[1mINFO    \u001B[0m | \u001B[36mALLSampler_Sentence\u001B[0m:\u001B[36msimulate_rounds\u001B[0m:\u001B[36m99\u001B[0m - \u001B[1msimulate round 6.\u001B[0m\n",
      "\u001B[32m2024-07-15 20:47:34.390\u001B[0m | \u001B[1mINFO    \u001B[0m | \u001B[36mALLSampler_Sentence\u001B[0m:\u001B[36mkeep_sample\u001B[0m:\u001B[36m89\u001B[0m - \u001B[1mcurrent sampled sentences: 1400, remaining sentences: 50398\u001B[0m\n",
      "\u001B[32m2024-07-15 20:56:40.869\u001B[0m | \u001B[1mINFO    \u001B[0m | \u001B[36mALLSampler_Sentence\u001B[0m:\u001B[36msimulate_rounds\u001B[0m:\u001B[36m99\u001B[0m - \u001B[1msimulate round 7.\u001B[0m\n",
      "\u001B[32m2024-07-15 20:57:34.549\u001B[0m | \u001B[1mINFO    \u001B[0m | \u001B[36mALLSampler_Sentence\u001B[0m:\u001B[36mkeep_sample\u001B[0m:\u001B[36m89\u001B[0m - \u001B[1mcurrent sampled sentences: 1600, remaining sentences: 50198\u001B[0m\n",
      "\u001B[32m2024-07-15 21:06:10.021\u001B[0m | \u001B[1mINFO    \u001B[0m | \u001B[36mALLSampler_Sentence\u001B[0m:\u001B[36msimulate_rounds\u001B[0m:\u001B[36m99\u001B[0m - \u001B[1msimulate round 8.\u001B[0m\n",
      "\u001B[32m2024-07-15 21:07:05.274\u001B[0m | \u001B[1mINFO    \u001B[0m | \u001B[36mALLSampler_Sentence\u001B[0m:\u001B[36mkeep_sample\u001B[0m:\u001B[36m89\u001B[0m - \u001B[1mcurrent sampled sentences: 1800, remaining sentences: 49998\u001B[0m\n",
      "\u001B[32m2024-07-15 21:15:52.233\u001B[0m | \u001B[1mINFO    \u001B[0m | \u001B[36mALLSampler_Sentence\u001B[0m:\u001B[36msimulate_rounds\u001B[0m:\u001B[36m99\u001B[0m - \u001B[1msimulate round 9.\u001B[0m\n",
      "\u001B[32m2024-07-15 21:16:43.207\u001B[0m | \u001B[1mINFO    \u001B[0m | \u001B[36mALLSampler_Sentence\u001B[0m:\u001B[36mkeep_sample\u001B[0m:\u001B[36m89\u001B[0m - \u001B[1mcurrent sampled sentences: 2000, remaining sentences: 49798\u001B[0m\n"
     ]
    },
    {
     "name": "stdout",
     "output_type": "stream",
     "text": [
      "CPU times: total: 4h 40min 58s\n",
      "Wall time: 4h 41min 22s\n"
     ]
    }
   ],
   "source": [
    "%%time\n",
    "all_scores=[]\n",
    "for si, seed  in enumerate(seeds):\n",
    "    logger.info(f'start run {si}.')\n",
    "    crf_model=CRFModel(anno_types=annos, topNUncertainToken=2)\n",
    "    m_simulator=ModelSamplingSimulator(total_sents=train_df, \n",
    "                                   total_round=10, \n",
    "                                   modelWrapper=crf_model, \n",
    "                                   eval_sents=test_df, \n",
    "                                   init_seed=seed,\n",
    "                                   sample_all_on_last_round=False)  \n",
    "    m_simulator.num_per_round=200\n",
    "    scores=m_simulator.simulate_rounds(boostrap_times=500)\n",
    "    all_scores.append(scores) "
   ]
  },
  {
   "cell_type": "code",
   "execution_count": 20,
   "id": "7f948158-e601-4bf5-b198-858598c65992",
   "metadata": {},
   "outputs": [
    {
     "data": {
      "text/plain": [
       "['../data/n2c2/scores_sentence_sampling/ner_crf_scores_sentenceSampling_500bootstrap.joblib']"
      ]
     },
     "execution_count": 20,
     "metadata": {},
     "output_type": "execute_result"
    }
   ],
   "source": [
    "joblib.dump(all_scores, r'../data/n2c2/scores_sentence_sampling/ner_crf_scores_sentenceSampling_500bootstrap.joblib')\n"
   ]
  },
  {
   "cell_type": "markdown",
   "id": "144997f9-a5d4-4051-a825-5149559c265e",
   "metadata": {},
   "source": [
    "  ## Debug"
   ]
  },
  {
   "cell_type": "code",
   "execution_count": 21,
   "id": "47de0ca5-b0e6-4a35-a25b-fb6e778e9219",
   "metadata": {},
   "outputs": [],
   "source": [
    "model=m_simulator.modelWrapper"
   ]
  },
  {
   "cell_type": "code",
   "execution_count": 22,
   "id": "6e8d0566-9b73-41eb-b986-e8b09c0655c3",
   "metadata": {},
   "outputs": [],
   "source": [
    "sampled=m_simulator.sampled"
   ]
  },
  {
   "cell_type": "code",
   "execution_count": 23,
   "id": "2437f28e-9ed7-4675-86ad-784bf43d6169",
   "metadata": {},
   "outputs": [
    {
     "data": {
      "text/plain": [
       "(34901, 5)"
      ]
     },
     "execution_count": 23,
     "metadata": {},
     "output_type": "execute_result"
    }
   ],
   "source": [
    "sampled.shape"
   ]
  },
  {
   "cell_type": "code",
   "execution_count": 77,
   "id": "9a9f6255-218f-4c85-805a-74d6edd8649c",
   "metadata": {},
   "outputs": [
    {
     "data": {
      "text/plain": [
       "(898005, 5)"
      ]
     },
     "execution_count": 77,
     "metadata": {},
     "output_type": "execute_result"
    }
   ],
   "source": [
    "remaining=m_simulator.remaining\n",
    "remaining.shape"
   ]
  },
  {
   "cell_type": "code",
   "execution_count": 130,
   "id": "0fced1f5-9ad7-485e-bae0-1195147a0894",
   "metadata": {},
   "outputs": [],
   "source": [
    "original_idx=[]\n",
    "X=[]\n",
    "y=[]\n",
    "#iterate through group: idx is the certain sentenceID, sdf is the sub df under certain sentence ID\n",
    "k=0\n",
    "for idx, sdf in remaining.groupby('sentence_id'): \n",
    "    #append sentence ID to list; sdf also has 4 columns:sentence_id\tdoc_name\ttoken\tlabel\n",
    "    print(idx)\n",
    "    original_idx.append(sdf.index[0]) \n",
    "    print()\n",
    "    x=sent2features(list(sdf['token']))\n",
    "    X.append(sent2features(list(sdf['token'])))\n",
    "    y.append(list(sdf['label']))\n",
    "    k+=1"
   ]
  },
  {
   "cell_type": "code",
   "execution_count": 140,
   "id": "929a6a03-ccd6-4f04-9f37-a3b375a99a48",
   "metadata": {},
   "outputs": [
    {
     "name": "stdout",
     "output_type": "stream",
     "text": [
      "[3, 32, 78, 50, 13, 18, 22, 12, 28, 14]\n"
     ]
    }
   ],
   "source": [
    "X,y =__df2features(remaining)"
   ]
  },
  {
   "cell_type": "code",
   "execution_count": 141,
   "id": "647d79f8-b9e5-45fe-bfdc-b245a896f129",
   "metadata": {},
   "outputs": [
    {
     "name": "stdout",
     "output_type": "stream",
     "text": [
      "[3, 32, 78, 50, 13, 18, 22, 12, 28, 14]\n"
     ]
    }
   ],
   "source": [
    "print([len(x) for x in X[:10]])"
   ]
  },
  {
   "cell_type": "code",
   "execution_count": 131,
   "id": "8d78d6d6-c680-4950-8b2c-13e83dee7992",
   "metadata": {},
   "outputs": [
    {
     "name": "stdout",
     "output_type": "stream",
     "text": [
      "[3, 32, 78, 50, 13, 18, 22, 12, 28, 14]\n"
     ]
    }
   ],
   "source": [
    "print([len(x) for x in X[:10]])"
   ]
  },
  {
   "cell_type": "code",
   "execution_count": 80,
   "id": "3954c03d-d34a-445d-9780-9b1bd0927ac5",
   "metadata": {},
   "outputs": [
    {
     "data": {
      "text/plain": [
       "49798"
      ]
     },
     "execution_count": 80,
     "metadata": {},
     "output_type": "execute_result"
    }
   ],
   "source": [
    "len(remaining['sentence_id'].unique())"
   ]
  },
  {
   "cell_type": "code",
   "execution_count": 28,
   "id": "066ecf76-e609-4ff7-af56-209df049cd9e",
   "metadata": {},
   "outputs": [],
   "source": [
    "yp=model.crf.predict_marginals(X)"
   ]
  },
  {
   "cell_type": "code",
   "execution_count": 53,
   "id": "4c50c8ad-70f9-4c0c-b0f4-ccae624a8f95",
   "metadata": {},
   "outputs": [
    {
     "data": {
      "text/html": [
       "<div>\n",
       "<style scoped>\n",
       "    .dataframe tbody tr th:only-of-type {\n",
       "        vertical-align: middle;\n",
       "    }\n",
       "\n",
       "    .dataframe tbody tr th {\n",
       "        vertical-align: top;\n",
       "    }\n",
       "\n",
       "    .dataframe thead th {\n",
       "        text-align: right;\n",
       "    }\n",
       "</style>\n",
       "<table border=\"1\" class=\"dataframe\">\n",
       "  <thead>\n",
       "    <tr style=\"text-align: right;\">\n",
       "      <th></th>\n",
       "      <th>sentence_id</th>\n",
       "      <th>doc_name</th>\n",
       "      <th>token</th>\n",
       "      <th>label</th>\n",
       "      <th>sentence</th>\n",
       "    </tr>\n",
       "  </thead>\n",
       "  <tbody>\n",
       "    <tr>\n",
       "      <th>0</th>\n",
       "      <td>0</td>\n",
       "      <td>100035.txt</td>\n",
       "      <td>Admission</td>\n",
       "      <td>O</td>\n",
       "      <td>Admission Date:</td>\n",
       "    </tr>\n",
       "    <tr>\n",
       "      <th>1</th>\n",
       "      <td>0</td>\n",
       "      <td>100035.txt</td>\n",
       "      <td>Date</td>\n",
       "      <td>O</td>\n",
       "      <td>Admission Date:</td>\n",
       "    </tr>\n",
       "    <tr>\n",
       "      <th>2</th>\n",
       "      <td>0</td>\n",
       "      <td>100035.txt</td>\n",
       "      <td>:</td>\n",
       "      <td>O</td>\n",
       "      <td>Admission Date:</td>\n",
       "    </tr>\n",
       "    <tr>\n",
       "      <th>3</th>\n",
       "      <td>1</td>\n",
       "      <td>100035.txt</td>\n",
       "      <td>[</td>\n",
       "      <td>O</td>\n",
       "      <td>[**2115-2-22**]              Discharge Date:  ...</td>\n",
       "    </tr>\n",
       "    <tr>\n",
       "      <th>4</th>\n",
       "      <td>1</td>\n",
       "      <td>100035.txt</td>\n",
       "      <td>*</td>\n",
       "      <td>O</td>\n",
       "      <td>[**2115-2-22**]              Discharge Date:  ...</td>\n",
       "    </tr>\n",
       "    <tr>\n",
       "      <th>5</th>\n",
       "      <td>1</td>\n",
       "      <td>100035.txt</td>\n",
       "      <td>*</td>\n",
       "      <td>O</td>\n",
       "      <td>[**2115-2-22**]              Discharge Date:  ...</td>\n",
       "    </tr>\n",
       "    <tr>\n",
       "      <th>6</th>\n",
       "      <td>1</td>\n",
       "      <td>100035.txt</td>\n",
       "      <td>2115</td>\n",
       "      <td>O</td>\n",
       "      <td>[**2115-2-22**]              Discharge Date:  ...</td>\n",
       "    </tr>\n",
       "    <tr>\n",
       "      <th>7</th>\n",
       "      <td>1</td>\n",
       "      <td>100035.txt</td>\n",
       "      <td>-</td>\n",
       "      <td>O</td>\n",
       "      <td>[**2115-2-22**]              Discharge Date:  ...</td>\n",
       "    </tr>\n",
       "    <tr>\n",
       "      <th>8</th>\n",
       "      <td>1</td>\n",
       "      <td>100035.txt</td>\n",
       "      <td>2</td>\n",
       "      <td>O</td>\n",
       "      <td>[**2115-2-22**]              Discharge Date:  ...</td>\n",
       "    </tr>\n",
       "    <tr>\n",
       "      <th>9</th>\n",
       "      <td>1</td>\n",
       "      <td>100035.txt</td>\n",
       "      <td>-</td>\n",
       "      <td>O</td>\n",
       "      <td>[**2115-2-22**]              Discharge Date:  ...</td>\n",
       "    </tr>\n",
       "    <tr>\n",
       "      <th>10</th>\n",
       "      <td>1</td>\n",
       "      <td>100035.txt</td>\n",
       "      <td>22</td>\n",
       "      <td>O</td>\n",
       "      <td>[**2115-2-22**]              Discharge Date:  ...</td>\n",
       "    </tr>\n",
       "    <tr>\n",
       "      <th>11</th>\n",
       "      <td>1</td>\n",
       "      <td>100035.txt</td>\n",
       "      <td>*</td>\n",
       "      <td>O</td>\n",
       "      <td>[**2115-2-22**]              Discharge Date:  ...</td>\n",
       "    </tr>\n",
       "    <tr>\n",
       "      <th>12</th>\n",
       "      <td>1</td>\n",
       "      <td>100035.txt</td>\n",
       "      <td>*</td>\n",
       "      <td>O</td>\n",
       "      <td>[**2115-2-22**]              Discharge Date:  ...</td>\n",
       "    </tr>\n",
       "    <tr>\n",
       "      <th>13</th>\n",
       "      <td>1</td>\n",
       "      <td>100035.txt</td>\n",
       "      <td>]</td>\n",
       "      <td>O</td>\n",
       "      <td>[**2115-2-22**]              Discharge Date:  ...</td>\n",
       "    </tr>\n",
       "    <tr>\n",
       "      <th>14</th>\n",
       "      <td>1</td>\n",
       "      <td>100035.txt</td>\n",
       "      <td></td>\n",
       "      <td>O</td>\n",
       "      <td>[**2115-2-22**]              Discharge Date:  ...</td>\n",
       "    </tr>\n",
       "    <tr>\n",
       "      <th>15</th>\n",
       "      <td>1</td>\n",
       "      <td>100035.txt</td>\n",
       "      <td>Discharge</td>\n",
       "      <td>O</td>\n",
       "      <td>[**2115-2-22**]              Discharge Date:  ...</td>\n",
       "    </tr>\n",
       "    <tr>\n",
       "      <th>16</th>\n",
       "      <td>1</td>\n",
       "      <td>100035.txt</td>\n",
       "      <td>Date</td>\n",
       "      <td>O</td>\n",
       "      <td>[**2115-2-22**]              Discharge Date:  ...</td>\n",
       "    </tr>\n",
       "    <tr>\n",
       "      <th>17</th>\n",
       "      <td>1</td>\n",
       "      <td>100035.txt</td>\n",
       "      <td>:</td>\n",
       "      <td>O</td>\n",
       "      <td>[**2115-2-22**]              Discharge Date:  ...</td>\n",
       "    </tr>\n",
       "    <tr>\n",
       "      <th>18</th>\n",
       "      <td>1</td>\n",
       "      <td>100035.txt</td>\n",
       "      <td></td>\n",
       "      <td>O</td>\n",
       "      <td>[**2115-2-22**]              Discharge Date:  ...</td>\n",
       "    </tr>\n",
       "    <tr>\n",
       "      <th>19</th>\n",
       "      <td>1</td>\n",
       "      <td>100035.txt</td>\n",
       "      <td>[</td>\n",
       "      <td>O</td>\n",
       "      <td>[**2115-2-22**]              Discharge Date:  ...</td>\n",
       "    </tr>\n",
       "  </tbody>\n",
       "</table>\n",
       "</div>"
      ],
      "text/plain": [
       "    sentence_id    doc_name          token label  \\\n",
       "0             0  100035.txt      Admission     O   \n",
       "1             0  100035.txt           Date     O   \n",
       "2             0  100035.txt              :     O   \n",
       "3             1  100035.txt              [     O   \n",
       "4             1  100035.txt              *     O   \n",
       "5             1  100035.txt              *     O   \n",
       "6             1  100035.txt           2115     O   \n",
       "7             1  100035.txt              -     O   \n",
       "8             1  100035.txt              2     O   \n",
       "9             1  100035.txt              -     O   \n",
       "10            1  100035.txt             22     O   \n",
       "11            1  100035.txt              *     O   \n",
       "12            1  100035.txt              *     O   \n",
       "13            1  100035.txt              ]     O   \n",
       "14            1  100035.txt                    O   \n",
       "15            1  100035.txt      Discharge     O   \n",
       "16            1  100035.txt           Date     O   \n",
       "17            1  100035.txt              :     O   \n",
       "18            1  100035.txt                    O   \n",
       "19            1  100035.txt              [     O   \n",
       "\n",
       "                                             sentence  \n",
       "0                                   Admission Date:    \n",
       "1                                   Admission Date:    \n",
       "2                                   Admission Date:    \n",
       "3   [**2115-2-22**]              Discharge Date:  ...  \n",
       "4   [**2115-2-22**]              Discharge Date:  ...  \n",
       "5   [**2115-2-22**]              Discharge Date:  ...  \n",
       "6   [**2115-2-22**]              Discharge Date:  ...  \n",
       "7   [**2115-2-22**]              Discharge Date:  ...  \n",
       "8   [**2115-2-22**]              Discharge Date:  ...  \n",
       "9   [**2115-2-22**]              Discharge Date:  ...  \n",
       "10  [**2115-2-22**]              Discharge Date:  ...  \n",
       "11  [**2115-2-22**]              Discharge Date:  ...  \n",
       "12  [**2115-2-22**]              Discharge Date:  ...  \n",
       "13  [**2115-2-22**]              Discharge Date:  ...  \n",
       "14  [**2115-2-22**]              Discharge Date:  ...  \n",
       "15  [**2115-2-22**]              Discharge Date:  ...  \n",
       "16  [**2115-2-22**]              Discharge Date:  ...  \n",
       "17  [**2115-2-22**]              Discharge Date:  ...  \n",
       "18  [**2115-2-22**]              Discharge Date:  ...  \n",
       "19  [**2115-2-22**]              Discharge Date:  ...  "
      ]
     },
     "execution_count": 53,
     "metadata": {},
     "output_type": "execute_result"
    }
   ],
   "source": [
    "remaining[:20]"
   ]
  },
  {
   "cell_type": "code",
   "execution_count": 74,
   "id": "aa1afd47-d41a-4efc-87bf-5d0a443a92b1",
   "metadata": {},
   "outputs": [
    {
     "data": {
      "text/plain": [
       "3"
      ]
     },
     "execution_count": 74,
     "metadata": {},
     "output_type": "execute_result"
    }
   ],
   "source": [
    "len(X[2])"
   ]
  },
  {
   "cell_type": "code",
   "execution_count": 60,
   "id": "da8a81dc-0034-42e3-9c04-6dd494ffd8ba",
   "metadata": {},
   "outputs": [
    {
     "data": {
      "text/plain": [
       "[{'bias': 1.0,\n",
       "  'word.lower()': 'admission',\n",
       "  'word[-3:]': 'ion',\n",
       "  'word[-2:]': 'on',\n",
       "  'word.isupper()': False,\n",
       "  'word.istitle()': True,\n",
       "  'word.isdigit()': False,\n",
       "  'postag': 'PROPN',\n",
       "  'postag[:2]': 'PR',\n",
       "  'BOS': True,\n",
       "  '+1:word.lower()': 'date',\n",
       "  '+1:word.istitle()': True,\n",
       "  '+1:word.isupper()': False,\n",
       "  '+1:postag': 'PROPN',\n",
       "  '+1:postag[:2]': 'PR'},\n",
       " {'bias': 1.0,\n",
       "  'word.lower()': 'date',\n",
       "  'word[-3:]': 'ate',\n",
       "  'word[-2:]': 'te',\n",
       "  'word.isupper()': False,\n",
       "  'word.istitle()': True,\n",
       "  'word.isdigit()': False,\n",
       "  'postag': 'PROPN',\n",
       "  'postag[:2]': 'PR',\n",
       "  '-1:word.lower()': 'admission',\n",
       "  '-1:word.istitle()': True,\n",
       "  '-1:word.isupper()': False,\n",
       "  '-1:postag': 'PROPN',\n",
       "  '-1:postag[:2]': 'PR',\n",
       "  '+1:word.lower()': ':',\n",
       "  '+1:word.istitle()': False,\n",
       "  '+1:word.isupper()': False,\n",
       "  '+1:postag': 'PUNCT',\n",
       "  '+1:postag[:2]': 'PU'},\n",
       " {'bias': 1.0,\n",
       "  'word.lower()': ':',\n",
       "  'word[-3:]': ':',\n",
       "  'word[-2:]': ':',\n",
       "  'word.isupper()': False,\n",
       "  'word.istitle()': False,\n",
       "  'word.isdigit()': False,\n",
       "  'postag': 'PUNCT',\n",
       "  'postag[:2]': 'PU',\n",
       "  '-1:word.lower()': 'date',\n",
       "  '-1:word.istitle()': True,\n",
       "  '-1:word.isupper()': False,\n",
       "  '-1:postag': 'PROPN',\n",
       "  '-1:postag[:2]': 'PR',\n",
       "  'EOS': True}]"
      ]
     },
     "execution_count": 60,
     "metadata": {},
     "output_type": "execute_result"
    }
   ],
   "source": [
    "X[4]"
   ]
  },
  {
   "cell_type": "code",
   "execution_count": 52,
   "id": "bca62ab6-da03-494d-8d98-034eae61c772",
   "metadata": {},
   "outputs": [
    {
     "data": {
      "text/plain": [
       "3"
      ]
     },
     "execution_count": 52,
     "metadata": {},
     "output_type": "execute_result"
    }
   ],
   "source": [
    "sent_logits=yp[11]\n",
    "len(sent_logits)"
   ]
  },
  {
   "cell_type": "code",
   "execution_count": 32,
   "id": "1e32af1e-e923-4459-b976-b33f1e0a14ec",
   "metadata": {},
   "outputs": [
    {
     "ename": "NameError",
     "evalue": "name 'topNUncertainToken' is not defined",
     "output_type": "error",
     "traceback": [
      "\u001B[1;31m---------------------------------------------------------------------------\u001B[0m",
      "\u001B[1;31mNameError\u001B[0m                                 Traceback (most recent call last)",
      "Cell \u001B[1;32mIn[32], line 2\u001B[0m\n\u001B[0;32m      1\u001B[0m \u001B[38;5;28;01mfor\u001B[39;00m w \u001B[38;5;129;01min\u001B[39;00m sent_logits:\n\u001B[1;32m----> 2\u001B[0m     top2\u001B[38;5;241m=\u001B[39m\u001B[38;5;28msorted\u001B[39m(w\u001B[38;5;241m.\u001B[39mvalues())[\u001B[38;5;241m-\u001B[39m\u001B[43mtopNUncertainToken\u001B[49m:]\n",
      "\u001B[1;31mNameError\u001B[0m: name 'topNUncertainToken' is not defined"
     ]
    }
   ],
   "source": [
    "for w in sent_logits:\n",
    "    top2=sorted(w.values())"
   ]
  },
  {
   "cell_type": "code",
   "execution_count": 41,
   "id": "5416ae50-9cdc-4dda-9c57-f8fe5a593a0d",
   "metadata": {},
   "outputs": [
    {
     "data": {
      "text/plain": [
       "0.9985449700133505"
      ]
     },
     "execution_count": 41,
     "metadata": {},
     "output_type": "execute_result"
    }
   ],
   "source": [
    "model.single_sent_certainty(sent_logits)"
   ]
  },
  {
   "cell_type": "code",
   "execution_count": 42,
   "id": "e390a874-bce7-4c9a-8f70-a33bc26f03f9",
   "metadata": {},
   "outputs": [],
   "source": [
    "certainty=[]\n",
    "topNUncertainToken=5\n",
    "for w in sent_logits:\n",
    "    # for each word, find the difference between the probabilities of top two uncertain labels.\n",
    "    top2=sorted(w.values())[-2:]\n",
    "    certainty.append(top2[1]-top2[0])"
   ]
  },
  {
   "cell_type": "code",
   "execution_count": 43,
   "id": "53397dd5-1dff-4097-9dc0-9443d23a8cfe",
   "metadata": {},
   "outputs": [
    {
     "data": {
      "text/plain": [
       "[0.9968102443889114, 0.9988639574730318, 0.9999607081781082]"
      ]
     },
     "execution_count": 43,
     "metadata": {},
     "output_type": "execute_result"
    }
   ],
   "source": [
    "certainty"
   ]
  },
  {
   "cell_type": "code",
   "execution_count": 46,
   "id": "49a6d65d-83e7-494c-9d8d-6c4253c8b654",
   "metadata": {},
   "outputs": [
    {
     "data": {
      "text/plain": [
       "3"
      ]
     },
     "execution_count": 46,
     "metadata": {},
     "output_type": "execute_result"
    }
   ],
   "source": [
    "len(sent_logits)"
   ]
  },
  {
   "cell_type": "code",
   "execution_count": null,
   "id": "fac8131b-f78e-4447-ba79-9e2d7eb98632",
   "metadata": {},
   "outputs": [],
   "source": []
  }
 ],
 "metadata": {
  "kernelspec": {
   "display_name": "Python 3 (ipykernel)",
   "language": "python",
   "name": "python3"
  },
  "language_info": {
   "codemirror_mode": {
    "name": "ipython",
    "version": 3
   },
   "file_extension": ".py",
   "mimetype": "text/x-python",
   "name": "python",
   "nbconvert_exporter": "python",
   "pygments_lexer": "ipython3",
   "version": "3.8.18"
  }
 },
 "nbformat": 4,
 "nbformat_minor": 5
}
